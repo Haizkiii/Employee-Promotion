{
  "cells": [
    {
      "cell_type": "markdown",
      "metadata": {
        "id": "Nx9J4P-Xq86k"
      },
      "source": [
        "# *Data Acquisition*"
      ]
    },
    {
      "cell_type": "code",
      "execution_count": null,
      "metadata": {
        "colab": {
          "base_uri": "https://localhost:8080/",
          "height": 530
        },
        "id": "eCjkFICIzjCt",
        "outputId": "2c16bd6f-d93c-4ed4-f4c6-82ad31ddb2ad"
      },
      "outputs": [
        {
          "output_type": "execute_result",
          "data": {
            "text/plain": [
              "       employee_id         department     region         education gender  \\\n",
              "0            65438  Sales & Marketing   region_7  Master's & above      f   \n",
              "1            65141         Operations  region_22        Bachelor's      m   \n",
              "2             7513  Sales & Marketing  region_19        Bachelor's      m   \n",
              "3             2542  Sales & Marketing  region_23        Bachelor's      m   \n",
              "4            48945         Technology  region_26        Bachelor's      m   \n",
              "...            ...                ...        ...               ...    ...   \n",
              "54803         3030         Technology  region_14        Bachelor's      m   \n",
              "54804        74592         Operations  region_27  Master's & above      f   \n",
              "54805        13918          Analytics   region_1        Bachelor's      m   \n",
              "54806        13614  Sales & Marketing   region_9               NaN      m   \n",
              "54807        51526                 HR  region_22        Bachelor's      m   \n",
              "\n",
              "      recruitment_channel  no_of_trainings  age  previous_year_rating  \\\n",
              "0                sourcing                1   35                   5.0   \n",
              "1                   other                1   30                   5.0   \n",
              "2                sourcing                1   34                   3.0   \n",
              "3                   other                2   39                   1.0   \n",
              "4                   other                1   45                   3.0   \n",
              "...                   ...              ...  ...                   ...   \n",
              "54803            sourcing                1   48                   3.0   \n",
              "54804               other                1   37                   2.0   \n",
              "54805               other                1   27                   5.0   \n",
              "54806            sourcing                1   29                   1.0   \n",
              "54807               other                1   27                   1.0   \n",
              "\n",
              "       length_of_service  awards_won?  avg_training_score  is_promoted  \n",
              "0                      8            0                  49            0  \n",
              "1                      4            0                  60            0  \n",
              "2                      7            0                  50            0  \n",
              "3                     10            0                  50            0  \n",
              "4                      2            0                  73            0  \n",
              "...                  ...          ...                 ...          ...  \n",
              "54803                 17            0                  78            0  \n",
              "54804                  6            0                  56            0  \n",
              "54805                  3            0                  79            0  \n",
              "54806                  2            0                  45            0  \n",
              "54807                  5            0                  49            0  \n",
              "\n",
              "[54808 rows x 13 columns]"
            ],
            "text/html": [
              "\n",
              "  <div id=\"df-badb8530-7a24-42be-b9f6-69d0af9d3ae2\" class=\"colab-df-container\">\n",
              "    <div>\n",
              "<style scoped>\n",
              "    .dataframe tbody tr th:only-of-type {\n",
              "        vertical-align: middle;\n",
              "    }\n",
              "\n",
              "    .dataframe tbody tr th {\n",
              "        vertical-align: top;\n",
              "    }\n",
              "\n",
              "    .dataframe thead th {\n",
              "        text-align: right;\n",
              "    }\n",
              "</style>\n",
              "<table border=\"1\" class=\"dataframe\">\n",
              "  <thead>\n",
              "    <tr style=\"text-align: right;\">\n",
              "      <th></th>\n",
              "      <th>employee_id</th>\n",
              "      <th>department</th>\n",
              "      <th>region</th>\n",
              "      <th>education</th>\n",
              "      <th>gender</th>\n",
              "      <th>recruitment_channel</th>\n",
              "      <th>no_of_trainings</th>\n",
              "      <th>age</th>\n",
              "      <th>previous_year_rating</th>\n",
              "      <th>length_of_service</th>\n",
              "      <th>awards_won?</th>\n",
              "      <th>avg_training_score</th>\n",
              "      <th>is_promoted</th>\n",
              "    </tr>\n",
              "  </thead>\n",
              "  <tbody>\n",
              "    <tr>\n",
              "      <th>0</th>\n",
              "      <td>65438</td>\n",
              "      <td>Sales &amp; Marketing</td>\n",
              "      <td>region_7</td>\n",
              "      <td>Master's &amp; above</td>\n",
              "      <td>f</td>\n",
              "      <td>sourcing</td>\n",
              "      <td>1</td>\n",
              "      <td>35</td>\n",
              "      <td>5.0</td>\n",
              "      <td>8</td>\n",
              "      <td>0</td>\n",
              "      <td>49</td>\n",
              "      <td>0</td>\n",
              "    </tr>\n",
              "    <tr>\n",
              "      <th>1</th>\n",
              "      <td>65141</td>\n",
              "      <td>Operations</td>\n",
              "      <td>region_22</td>\n",
              "      <td>Bachelor's</td>\n",
              "      <td>m</td>\n",
              "      <td>other</td>\n",
              "      <td>1</td>\n",
              "      <td>30</td>\n",
              "      <td>5.0</td>\n",
              "      <td>4</td>\n",
              "      <td>0</td>\n",
              "      <td>60</td>\n",
              "      <td>0</td>\n",
              "    </tr>\n",
              "    <tr>\n",
              "      <th>2</th>\n",
              "      <td>7513</td>\n",
              "      <td>Sales &amp; Marketing</td>\n",
              "      <td>region_19</td>\n",
              "      <td>Bachelor's</td>\n",
              "      <td>m</td>\n",
              "      <td>sourcing</td>\n",
              "      <td>1</td>\n",
              "      <td>34</td>\n",
              "      <td>3.0</td>\n",
              "      <td>7</td>\n",
              "      <td>0</td>\n",
              "      <td>50</td>\n",
              "      <td>0</td>\n",
              "    </tr>\n",
              "    <tr>\n",
              "      <th>3</th>\n",
              "      <td>2542</td>\n",
              "      <td>Sales &amp; Marketing</td>\n",
              "      <td>region_23</td>\n",
              "      <td>Bachelor's</td>\n",
              "      <td>m</td>\n",
              "      <td>other</td>\n",
              "      <td>2</td>\n",
              "      <td>39</td>\n",
              "      <td>1.0</td>\n",
              "      <td>10</td>\n",
              "      <td>0</td>\n",
              "      <td>50</td>\n",
              "      <td>0</td>\n",
              "    </tr>\n",
              "    <tr>\n",
              "      <th>4</th>\n",
              "      <td>48945</td>\n",
              "      <td>Technology</td>\n",
              "      <td>region_26</td>\n",
              "      <td>Bachelor's</td>\n",
              "      <td>m</td>\n",
              "      <td>other</td>\n",
              "      <td>1</td>\n",
              "      <td>45</td>\n",
              "      <td>3.0</td>\n",
              "      <td>2</td>\n",
              "      <td>0</td>\n",
              "      <td>73</td>\n",
              "      <td>0</td>\n",
              "    </tr>\n",
              "    <tr>\n",
              "      <th>...</th>\n",
              "      <td>...</td>\n",
              "      <td>...</td>\n",
              "      <td>...</td>\n",
              "      <td>...</td>\n",
              "      <td>...</td>\n",
              "      <td>...</td>\n",
              "      <td>...</td>\n",
              "      <td>...</td>\n",
              "      <td>...</td>\n",
              "      <td>...</td>\n",
              "      <td>...</td>\n",
              "      <td>...</td>\n",
              "      <td>...</td>\n",
              "    </tr>\n",
              "    <tr>\n",
              "      <th>54803</th>\n",
              "      <td>3030</td>\n",
              "      <td>Technology</td>\n",
              "      <td>region_14</td>\n",
              "      <td>Bachelor's</td>\n",
              "      <td>m</td>\n",
              "      <td>sourcing</td>\n",
              "      <td>1</td>\n",
              "      <td>48</td>\n",
              "      <td>3.0</td>\n",
              "      <td>17</td>\n",
              "      <td>0</td>\n",
              "      <td>78</td>\n",
              "      <td>0</td>\n",
              "    </tr>\n",
              "    <tr>\n",
              "      <th>54804</th>\n",
              "      <td>74592</td>\n",
              "      <td>Operations</td>\n",
              "      <td>region_27</td>\n",
              "      <td>Master's &amp; above</td>\n",
              "      <td>f</td>\n",
              "      <td>other</td>\n",
              "      <td>1</td>\n",
              "      <td>37</td>\n",
              "      <td>2.0</td>\n",
              "      <td>6</td>\n",
              "      <td>0</td>\n",
              "      <td>56</td>\n",
              "      <td>0</td>\n",
              "    </tr>\n",
              "    <tr>\n",
              "      <th>54805</th>\n",
              "      <td>13918</td>\n",
              "      <td>Analytics</td>\n",
              "      <td>region_1</td>\n",
              "      <td>Bachelor's</td>\n",
              "      <td>m</td>\n",
              "      <td>other</td>\n",
              "      <td>1</td>\n",
              "      <td>27</td>\n",
              "      <td>5.0</td>\n",
              "      <td>3</td>\n",
              "      <td>0</td>\n",
              "      <td>79</td>\n",
              "      <td>0</td>\n",
              "    </tr>\n",
              "    <tr>\n",
              "      <th>54806</th>\n",
              "      <td>13614</td>\n",
              "      <td>Sales &amp; Marketing</td>\n",
              "      <td>region_9</td>\n",
              "      <td>NaN</td>\n",
              "      <td>m</td>\n",
              "      <td>sourcing</td>\n",
              "      <td>1</td>\n",
              "      <td>29</td>\n",
              "      <td>1.0</td>\n",
              "      <td>2</td>\n",
              "      <td>0</td>\n",
              "      <td>45</td>\n",
              "      <td>0</td>\n",
              "    </tr>\n",
              "    <tr>\n",
              "      <th>54807</th>\n",
              "      <td>51526</td>\n",
              "      <td>HR</td>\n",
              "      <td>region_22</td>\n",
              "      <td>Bachelor's</td>\n",
              "      <td>m</td>\n",
              "      <td>other</td>\n",
              "      <td>1</td>\n",
              "      <td>27</td>\n",
              "      <td>1.0</td>\n",
              "      <td>5</td>\n",
              "      <td>0</td>\n",
              "      <td>49</td>\n",
              "      <td>0</td>\n",
              "    </tr>\n",
              "  </tbody>\n",
              "</table>\n",
              "<p>54808 rows × 13 columns</p>\n",
              "</div>\n",
              "    <div class=\"colab-df-buttons\">\n",
              "\n",
              "  <div class=\"colab-df-container\">\n",
              "    <button class=\"colab-df-convert\" onclick=\"convertToInteractive('df-badb8530-7a24-42be-b9f6-69d0af9d3ae2')\"\n",
              "            title=\"Convert this dataframe to an interactive table.\"\n",
              "            style=\"display:none;\">\n",
              "\n",
              "  <svg xmlns=\"http://www.w3.org/2000/svg\" height=\"24px\" viewBox=\"0 -960 960 960\">\n",
              "    <path d=\"M120-120v-720h720v720H120Zm60-500h600v-160H180v160Zm220 220h160v-160H400v160Zm0 220h160v-160H400v160ZM180-400h160v-160H180v160Zm440 0h160v-160H620v160ZM180-180h160v-160H180v160Zm440 0h160v-160H620v160Z\"/>\n",
              "  </svg>\n",
              "    </button>\n",
              "\n",
              "  <style>\n",
              "    .colab-df-container {\n",
              "      display:flex;\n",
              "      gap: 12px;\n",
              "    }\n",
              "\n",
              "    .colab-df-convert {\n",
              "      background-color: #E8F0FE;\n",
              "      border: none;\n",
              "      border-radius: 50%;\n",
              "      cursor: pointer;\n",
              "      display: none;\n",
              "      fill: #1967D2;\n",
              "      height: 32px;\n",
              "      padding: 0 0 0 0;\n",
              "      width: 32px;\n",
              "    }\n",
              "\n",
              "    .colab-df-convert:hover {\n",
              "      background-color: #E2EBFA;\n",
              "      box-shadow: 0px 1px 2px rgba(60, 64, 67, 0.3), 0px 1px 3px 1px rgba(60, 64, 67, 0.15);\n",
              "      fill: #174EA6;\n",
              "    }\n",
              "\n",
              "    .colab-df-buttons div {\n",
              "      margin-bottom: 4px;\n",
              "    }\n",
              "\n",
              "    [theme=dark] .colab-df-convert {\n",
              "      background-color: #3B4455;\n",
              "      fill: #D2E3FC;\n",
              "    }\n",
              "\n",
              "    [theme=dark] .colab-df-convert:hover {\n",
              "      background-color: #434B5C;\n",
              "      box-shadow: 0px 1px 3px 1px rgba(0, 0, 0, 0.15);\n",
              "      filter: drop-shadow(0px 1px 2px rgba(0, 0, 0, 0.3));\n",
              "      fill: #FFFFFF;\n",
              "    }\n",
              "  </style>\n",
              "\n",
              "    <script>\n",
              "      const buttonEl =\n",
              "        document.querySelector('#df-badb8530-7a24-42be-b9f6-69d0af9d3ae2 button.colab-df-convert');\n",
              "      buttonEl.style.display =\n",
              "        google.colab.kernel.accessAllowed ? 'block' : 'none';\n",
              "\n",
              "      async function convertToInteractive(key) {\n",
              "        const element = document.querySelector('#df-badb8530-7a24-42be-b9f6-69d0af9d3ae2');\n",
              "        const dataTable =\n",
              "          await google.colab.kernel.invokeFunction('convertToInteractive',\n",
              "                                                    [key], {});\n",
              "        if (!dataTable) return;\n",
              "\n",
              "        const docLinkHtml = 'Like what you see? Visit the ' +\n",
              "          '<a target=\"_blank\" href=https://colab.research.google.com/notebooks/data_table.ipynb>data table notebook</a>'\n",
              "          + ' to learn more about interactive tables.';\n",
              "        element.innerHTML = '';\n",
              "        dataTable['output_type'] = 'display_data';\n",
              "        await google.colab.output.renderOutput(dataTable, element);\n",
              "        const docLink = document.createElement('div');\n",
              "        docLink.innerHTML = docLinkHtml;\n",
              "        element.appendChild(docLink);\n",
              "      }\n",
              "    </script>\n",
              "  </div>\n",
              "\n",
              "\n",
              "<div id=\"df-8a8586c2-f931-49c4-91d6-8ff3bf2f2f32\">\n",
              "  <button class=\"colab-df-quickchart\" onclick=\"quickchart('df-8a8586c2-f931-49c4-91d6-8ff3bf2f2f32')\"\n",
              "            title=\"Suggest charts\"\n",
              "            style=\"display:none;\">\n",
              "\n",
              "<svg xmlns=\"http://www.w3.org/2000/svg\" height=\"24px\"viewBox=\"0 0 24 24\"\n",
              "     width=\"24px\">\n",
              "    <g>\n",
              "        <path d=\"M19 3H5c-1.1 0-2 .9-2 2v14c0 1.1.9 2 2 2h14c1.1 0 2-.9 2-2V5c0-1.1-.9-2-2-2zM9 17H7v-7h2v7zm4 0h-2V7h2v10zm4 0h-2v-4h2v4z\"/>\n",
              "    </g>\n",
              "</svg>\n",
              "  </button>\n",
              "\n",
              "<style>\n",
              "  .colab-df-quickchart {\n",
              "      --bg-color: #E8F0FE;\n",
              "      --fill-color: #1967D2;\n",
              "      --hover-bg-color: #E2EBFA;\n",
              "      --hover-fill-color: #174EA6;\n",
              "      --disabled-fill-color: #AAA;\n",
              "      --disabled-bg-color: #DDD;\n",
              "  }\n",
              "\n",
              "  [theme=dark] .colab-df-quickchart {\n",
              "      --bg-color: #3B4455;\n",
              "      --fill-color: #D2E3FC;\n",
              "      --hover-bg-color: #434B5C;\n",
              "      --hover-fill-color: #FFFFFF;\n",
              "      --disabled-bg-color: #3B4455;\n",
              "      --disabled-fill-color: #666;\n",
              "  }\n",
              "\n",
              "  .colab-df-quickchart {\n",
              "    background-color: var(--bg-color);\n",
              "    border: none;\n",
              "    border-radius: 50%;\n",
              "    cursor: pointer;\n",
              "    display: none;\n",
              "    fill: var(--fill-color);\n",
              "    height: 32px;\n",
              "    padding: 0;\n",
              "    width: 32px;\n",
              "  }\n",
              "\n",
              "  .colab-df-quickchart:hover {\n",
              "    background-color: var(--hover-bg-color);\n",
              "    box-shadow: 0 1px 2px rgba(60, 64, 67, 0.3), 0 1px 3px 1px rgba(60, 64, 67, 0.15);\n",
              "    fill: var(--button-hover-fill-color);\n",
              "  }\n",
              "\n",
              "  .colab-df-quickchart-complete:disabled,\n",
              "  .colab-df-quickchart-complete:disabled:hover {\n",
              "    background-color: var(--disabled-bg-color);\n",
              "    fill: var(--disabled-fill-color);\n",
              "    box-shadow: none;\n",
              "  }\n",
              "\n",
              "  .colab-df-spinner {\n",
              "    border: 2px solid var(--fill-color);\n",
              "    border-color: transparent;\n",
              "    border-bottom-color: var(--fill-color);\n",
              "    animation:\n",
              "      spin 1s steps(1) infinite;\n",
              "  }\n",
              "\n",
              "  @keyframes spin {\n",
              "    0% {\n",
              "      border-color: transparent;\n",
              "      border-bottom-color: var(--fill-color);\n",
              "      border-left-color: var(--fill-color);\n",
              "    }\n",
              "    20% {\n",
              "      border-color: transparent;\n",
              "      border-left-color: var(--fill-color);\n",
              "      border-top-color: var(--fill-color);\n",
              "    }\n",
              "    30% {\n",
              "      border-color: transparent;\n",
              "      border-left-color: var(--fill-color);\n",
              "      border-top-color: var(--fill-color);\n",
              "      border-right-color: var(--fill-color);\n",
              "    }\n",
              "    40% {\n",
              "      border-color: transparent;\n",
              "      border-right-color: var(--fill-color);\n",
              "      border-top-color: var(--fill-color);\n",
              "    }\n",
              "    60% {\n",
              "      border-color: transparent;\n",
              "      border-right-color: var(--fill-color);\n",
              "    }\n",
              "    80% {\n",
              "      border-color: transparent;\n",
              "      border-right-color: var(--fill-color);\n",
              "      border-bottom-color: var(--fill-color);\n",
              "    }\n",
              "    90% {\n",
              "      border-color: transparent;\n",
              "      border-bottom-color: var(--fill-color);\n",
              "    }\n",
              "  }\n",
              "</style>\n",
              "\n",
              "  <script>\n",
              "    async function quickchart(key) {\n",
              "      const quickchartButtonEl =\n",
              "        document.querySelector('#' + key + ' button');\n",
              "      quickchartButtonEl.disabled = true;  // To prevent multiple clicks.\n",
              "      quickchartButtonEl.classList.add('colab-df-spinner');\n",
              "      try {\n",
              "        const charts = await google.colab.kernel.invokeFunction(\n",
              "            'suggestCharts', [key], {});\n",
              "      } catch (error) {\n",
              "        console.error('Error during call to suggestCharts:', error);\n",
              "      }\n",
              "      quickchartButtonEl.classList.remove('colab-df-spinner');\n",
              "      quickchartButtonEl.classList.add('colab-df-quickchart-complete');\n",
              "    }\n",
              "    (() => {\n",
              "      let quickchartButtonEl =\n",
              "        document.querySelector('#df-8a8586c2-f931-49c4-91d6-8ff3bf2f2f32 button');\n",
              "      quickchartButtonEl.style.display =\n",
              "        google.colab.kernel.accessAllowed ? 'block' : 'none';\n",
              "    })();\n",
              "  </script>\n",
              "</div>\n",
              "    </div>\n",
              "  </div>\n"
            ]
          },
          "metadata": {},
          "execution_count": 1
        }
      ],
      "source": [
        "import pandas as pd\n",
        "\n",
        "# Import data\n",
        "dataset = pd.read_csv('train.csv')\n",
        "dataset"
      ]
    },
    {
      "cell_type": "code",
      "execution_count": null,
      "metadata": {
        "colab": {
          "base_uri": "https://localhost:8080/"
        },
        "id": "txOekN8c0PpF",
        "outputId": "10c2d6ec-c480-4428-f646-5bbf1b955001"
      },
      "outputs": [
        {
          "output_type": "execute_result",
          "data": {
            "text/plain": [
              "(54808, 13)"
            ]
          },
          "metadata": {},
          "execution_count": 2
        }
      ],
      "source": [
        "# Jumlah baris dan kolom pada data\n",
        "dataset.shape"
      ]
    },
    {
      "cell_type": "code",
      "execution_count": null,
      "metadata": {
        "colab": {
          "base_uri": "https://localhost:8080/"
        },
        "id": "njrocoUs0S1F",
        "outputId": "047b31d3-d54e-4964-9d7e-4a9055e82219"
      },
      "outputs": [
        {
          "output_type": "stream",
          "name": "stdout",
          "text": [
            "<class 'pandas.core.frame.DataFrame'>\n",
            "RangeIndex: 54808 entries, 0 to 54807\n",
            "Data columns (total 13 columns):\n",
            " #   Column                Non-Null Count  Dtype  \n",
            "---  ------                --------------  -----  \n",
            " 0   employee_id           54808 non-null  int64  \n",
            " 1   department            54808 non-null  object \n",
            " 2   region                54808 non-null  object \n",
            " 3   education             52399 non-null  object \n",
            " 4   gender                54808 non-null  object \n",
            " 5   recruitment_channel   54808 non-null  object \n",
            " 6   no_of_trainings       54808 non-null  int64  \n",
            " 7   age                   54808 non-null  int64  \n",
            " 8   previous_year_rating  50684 non-null  float64\n",
            " 9   length_of_service     54808 non-null  int64  \n",
            " 10  awards_won?           54808 non-null  int64  \n",
            " 11  avg_training_score    54808 non-null  int64  \n",
            " 12  is_promoted           54808 non-null  int64  \n",
            "dtypes: float64(1), int64(7), object(5)\n",
            "memory usage: 5.4+ MB\n"
          ]
        }
      ],
      "source": [
        "# Informasi data\n",
        "dataset.info()"
      ]
    },
    {
      "cell_type": "markdown",
      "metadata": {
        "id": "5rJqShnjrqSB"
      },
      "source": [
        "# *Data Cleansing*"
      ]
    },
    {
      "cell_type": "markdown",
      "metadata": {
        "id": "sPrtkM3Z9XIZ"
      },
      "source": [
        "## Konversi Tipe Data"
      ]
    },
    {
      "cell_type": "code",
      "execution_count": null,
      "metadata": {
        "colab": {
          "base_uri": "https://localhost:8080/"
        },
        "id": "Oro0f35gPQ4h",
        "outputId": "6b083a12-755a-4b02-cd7a-bfcfa9002bab"
      },
      "outputs": [
        {
          "output_type": "execute_result",
          "data": {
            "text/plain": [
              "employee_id               int64\n",
              "department                int64\n",
              "region                    int64\n",
              "education                 int64\n",
              "gender                    int64\n",
              "recruitment_channel       int64\n",
              "no_of_trainings           int64\n",
              "age                       int64\n",
              "previous_year_rating    float64\n",
              "length_of_service         int64\n",
              "awards_won?               int64\n",
              "avg_training_score        int64\n",
              "is_promoted               int64\n",
              "dtype: object"
            ]
          },
          "metadata": {},
          "execution_count": 4
        }
      ],
      "source": [
        "from sklearn.preprocessing import LabelEncoder\n",
        "\n",
        "label_encoder = LabelEncoder()\n",
        "\n",
        "# Mengubah tipe data categorical menjadi numerik\n",
        "dataset['department'] = label_encoder.fit_transform(dataset['department'])\n",
        "dataset['region'] = label_encoder.fit_transform(dataset['region'])\n",
        "dataset['education'] = label_encoder.fit_transform(dataset['education'])\n",
        "dataset['gender'] = label_encoder.fit_transform(dataset['gender'])\n",
        "dataset['recruitment_channel'] = label_encoder.fit_transform(dataset['recruitment_channel'])\n",
        "\n",
        "dataset.dtypes"
      ]
    },
    {
      "cell_type": "markdown",
      "metadata": {
        "id": "uRA46XENsBac"
      },
      "source": [
        "## *Missing Values*"
      ]
    },
    {
      "cell_type": "code",
      "execution_count": null,
      "metadata": {
        "colab": {
          "base_uri": "https://localhost:8080/"
        },
        "id": "FpX57J7u0WUC",
        "outputId": "f2ff6496-b8da-428e-f018-9b229e84ae5c"
      },
      "outputs": [
        {
          "output_type": "execute_result",
          "data": {
            "text/plain": [
              "employee_id                0\n",
              "department                 0\n",
              "region                     0\n",
              "education                  0\n",
              "gender                     0\n",
              "recruitment_channel        0\n",
              "no_of_trainings            0\n",
              "age                        0\n",
              "previous_year_rating    4124\n",
              "length_of_service          0\n",
              "awards_won?                0\n",
              "avg_training_score         0\n",
              "is_promoted                0\n",
              "dtype: int64"
            ]
          },
          "metadata": {},
          "execution_count": 6
        }
      ],
      "source": [
        "# Cek missing values\n",
        "dataset.isnull().sum()"
      ]
    },
    {
      "cell_type": "code",
      "execution_count": null,
      "metadata": {
        "colab": {
          "base_uri": "https://localhost:8080/"
        },
        "id": "dEGcVQOm0a-7",
        "outputId": "be2ccda6-9f29-4883-99dc-2b7f3b9bdf16"
      },
      "outputs": [
        {
          "output_type": "execute_result",
          "data": {
            "text/plain": [
              "employee_id             0\n",
              "department              0\n",
              "region                  0\n",
              "education               0\n",
              "gender                  0\n",
              "recruitment_channel     0\n",
              "no_of_trainings         0\n",
              "age                     0\n",
              "previous_year_rating    0\n",
              "length_of_service       0\n",
              "awards_won?             0\n",
              "avg_training_score      0\n",
              "is_promoted             0\n",
              "dtype: int64"
            ]
          },
          "metadata": {},
          "execution_count": 7
        }
      ],
      "source": [
        "# Handling missing values\n",
        "\n",
        "# Menghapus missing values\n",
        "# dataset = dataset.dropna()\n",
        "\n",
        "# Mengisi nilai hilang dengan nilai nol\n",
        "dataset = dataset.fillna(0)\n",
        "\n",
        "# Mengisi missing values dengan nilai rata-rata\n",
        "# dataset = dataset.fillna(dataset.mean())\n",
        "\n",
        "# Cek missing values setelah handling missing values\n",
        "dataset.isnull().sum()"
      ]
    },
    {
      "cell_type": "markdown",
      "metadata": {
        "id": "j2uh6eC4sImH"
      },
      "source": [
        "## *Outlier*"
      ]
    },
    {
      "cell_type": "code",
      "execution_count": null,
      "metadata": {
        "colab": {
          "base_uri": "https://localhost:8080/"
        },
        "id": "ZGFznl6jJZ8F",
        "outputId": "69af2d62-3c9d-47b3-fbce-7eebc121e061"
      },
      "outputs": [
        {
          "output_type": "stream",
          "name": "stdout",
          "text": [
            "unique values in \"employee_id\":\n",
            " [65438 65141  7513 ... 13918 13614 51526]\n",
            "unique values in \"department\":\n",
            " [7 4 8 0 6 5 1 2 3]\n",
            "unique values in \"region\":\n",
            " [31 14 10 15 18 11 12 27  0 28 21 24  6  5  2 29 20  8  4  7 17  1 19 23\n",
            "  3 13 32 25 30 26 16 22 33  9]\n",
            "unique values in \"education\":\n",
            " [2 0 3 1]\n",
            "unique values in \"gender\":\n",
            " [0 1]\n",
            "unique values in \"recruitment_channel\":\n",
            " [2 0 1]\n",
            "unique values in \"no_of_trainings\":\n",
            " [ 1  2  3  4  7  5  6  8 10  9]\n",
            "unique values in \"age\":\n",
            " [35 30 34 39 45 31 33 28 32 49 37 38 41 27 29 26 24 57 40 42 23 59 44 50\n",
            " 56 20 25 47 36 46 60 43 22 54 58 48 53 55 51 52 21]\n",
            "unique values in \"previous_year_rating\":\n",
            " [5. 3. 1. 4. 0. 2.]\n",
            "unique values in \"length_of_service\":\n",
            " [ 8  4  7 10  2  5  6  1  3 16  9 11 26 12 17 14 13 19 15 23 18 20 22 25\n",
            " 28 24 31 21 29 30 34 27 33 32 37]\n",
            "unique values in \"awards_won?\":\n",
            " [0 1]\n",
            "unique values in \"avg_training_score\":\n",
            " [49 60 50 73 85 59 63 83 54 77 80 84 51 46 75 57 70 68 79 44 72 61 48 58\n",
            " 87 47 52 88 71 65 62 53 78 91 82 69 55 74 86 90 92 67 89 56 76 81 45 64\n",
            " 39 94 93 66 95 42 96 40 99 43 97 41 98]\n",
            "unique values in \"is_promoted\":\n",
            " [0 1]\n"
          ]
        }
      ],
      "source": [
        "# Cek unique values pada kolom atribut dataset\n",
        "for i in dataset.columns:\n",
        "    print('unique values in \"{}\":\\n'.format(i),dataset[i].unique())"
      ]
    },
    {
      "cell_type": "code",
      "execution_count": null,
      "metadata": {
        "colab": {
          "base_uri": "https://localhost:8080/",
          "height": 511
        },
        "id": "5UDC1W6300ib",
        "outputId": "9dcc5482-94f9-434d-c6b4-006ee96c78ae"
      },
      "outputs": [
        {
          "output_type": "display_data",
          "data": {
            "text/plain": [
              "<Figure size 1500x500 with 1 Axes>"
            ],
            "image/png": "[encoded data removed]"
          },
          "metadata": {}
        }
      ],
      "source": [
        "import matplotlib.pyplot as plt\n",
        "import seaborn as sns\n",
        "\n",
        "# Cek outliers\n",
        "plt.rcParams['figure.figsize'] = (15, 5)\n",
        "plt.style.use('fivethirtyeight')\n",
        "\n",
        "# Boxplot untuk atribut length of service\n",
        "plt.subplot(1, 2, 1)\n",
        "sns.boxplot(dataset['length_of_service'], color = 'red')\n",
        "plt.xlabel('Length of Service', fontsize = 12)\n",
        "plt.ylabel('Range', fontsize = 12)\n",
        "plt.title('Outliner pada Atribut Length of Service', fontsize = 13)\n",
        "\n",
        "plt.show()"
      ]
    },
    {
      "cell_type": "markdown",
      "metadata": {
        "id": "AlQYG0R-0KP6"
      },
      "source": [
        "### *IQR*"
      ]
    },
    {
      "cell_type": "code",
      "execution_count": null,
      "metadata": {
        "colab": {
          "base_uri": "https://localhost:8080/",
          "height": 461
        },
        "id": "5BE33qPNOR0R",
        "outputId": "562a6ec3-10cd-44fd-9386-815f927a75c3"
      },
      "outputs": [
        {
          "output_type": "stream",
          "name": "stdout",
          "text": [
            "Dataset tanpa outlier:\n"
          ]
        },
        {
          "output_type": "execute_result",
          "data": {
            "text/plain": [
              "       employee_id  department  region  education  gender  \\\n",
              "0            65438           7      31          2       0   \n",
              "1            65141           4      14          0       1   \n",
              "2             7513           7      10          0       1   \n",
              "3             2542           7      15          0       1   \n",
              "4            48945           8      18          0       1   \n",
              "...            ...         ...     ...        ...     ...   \n",
              "54802         6915           7       5          0       1   \n",
              "54804        74592           4      19          2       0   \n",
              "54805        13918           0       0          0       1   \n",
              "54806        13614           7      33          3       1   \n",
              "54807        51526           2      14          0       1   \n",
              "\n",
              "       recruitment_channel  no_of_trainings  age  previous_year_rating  \\\n",
              "0                        2                1   35                   5.0   \n",
              "1                        0                1   30                   5.0   \n",
              "2                        2                1   34                   3.0   \n",
              "3                        0                2   39                   1.0   \n",
              "4                        0                1   45                   3.0   \n",
              "...                    ...              ...  ...                   ...   \n",
              "54802                    0                2   31                   1.0   \n",
              "54804                    0                1   37                   2.0   \n",
              "54805                    0                1   27                   5.0   \n",
              "54806                    2                1   29                   1.0   \n",
              "54807                    0                1   27                   1.0   \n",
              "\n",
              "       length_of_service  awards_won?  avg_training_score  is_promoted  \n",
              "0                      8            0                  49            0  \n",
              "1                      4            0                  60            0  \n",
              "2                      7            0                  50            0  \n",
              "3                     10            0                  50            0  \n",
              "4                      2            0                  73            0  \n",
              "...                  ...          ...                 ...          ...  \n",
              "54802                  2            0                  49            0  \n",
              "54804                  6            0                  56            0  \n",
              "54805                  3            0                  79            0  \n",
              "54806                  2            0                  45            0  \n",
              "54807                  5            0                  49            0  \n",
              "\n",
              "[51319 rows x 13 columns]"
            ],
            "text/html": [
              "\n",
              "  <div id=\"df-8557bad0-582c-4294-83df-e7cf1c77013c\" class=\"colab-df-container\">\n",
              "    <div>\n",
              "<style scoped>\n",
              "    .dataframe tbody tr th:only-of-type {\n",
              "        vertical-align: middle;\n",
              "    }\n",
              "\n",
              "    .dataframe tbody tr th {\n",
              "        vertical-align: top;\n",
              "    }\n",
              "\n",
              "    .dataframe thead th {\n",
              "        text-align: right;\n",
              "    }\n",
              "</style>\n",
              "<table border=\"1\" class=\"dataframe\">\n",
              "  <thead>\n",
              "    <tr style=\"text-align: right;\">\n",
              "      <th></th>\n",
              "      <th>employee_id</th>\n",
              "      <th>department</th>\n",
              "      <th>region</th>\n",
              "      <th>education</th>\n",
              "      <th>gender</th>\n",
              "      <th>recruitment_channel</th>\n",
              "      <th>no_of_trainings</th>\n",
              "      <th>age</th>\n",
              "      <th>previous_year_rating</th>\n",
              "      <th>length_of_service</th>\n",
              "      <th>awards_won?</th>\n",
              "      <th>avg_training_score</th>\n",
              "      <th>is_promoted</th>\n",
              "    </tr>\n",
              "  </thead>\n",
              "  <tbody>\n",
              "    <tr>\n",
              "      <th>0</th>\n",
              "      <td>65438</td>\n",
              "      <td>7</td>\n",
              "      <td>31</td>\n",
              "      <td>2</td>\n",
              "      <td>0</td>\n",
              "      <td>2</td>\n",
              "      <td>1</td>\n",
              "      <td>35</td>\n",
              "      <td>5.0</td>\n",
              "      <td>8</td>\n",
              "      <td>0</td>\n",
              "      <td>49</td>\n",
              "      <td>0</td>\n",
              "    </tr>\n",
              "    <tr>\n",
              "      <th>1</th>\n",
              "      <td>65141</td>\n",
              "      <td>4</td>\n",
              "      <td>14</td>\n",
              "      <td>0</td>\n",
              "      <td>1</td>\n",
              "      <td>0</td>\n",
              "      <td>1</td>\n",
              "      <td>30</td>\n",
              "      <td>5.0</td>\n",
              "      <td>4</td>\n",
              "      <td>0</td>\n",
              "      <td>60</td>\n",
              "      <td>0</td>\n",
              "    </tr>\n",
              "    <tr>\n",
              "      <th>2</th>\n",
              "      <td>7513</td>\n",
              "      <td>7</td>\n",
              "      <td>10</td>\n",
              "      <td>0</td>\n",
              "      <td>1</td>\n",
              "      <td>2</td>\n",
              "      <td>1</td>\n",
              "      <td>34</td>\n",
              "      <td>3.0</td>\n",
              "      <td>7</td>\n",
              "      <td>0</td>\n",
              "      <td>50</td>\n",
              "      <td>0</td>\n",
              "    </tr>\n",
              "    <tr>\n",
              "      <th>3</th>\n",
              "      <td>2542</td>\n",
              "      <td>7</td>\n",
              "      <td>15</td>\n",
              "      <td>0</td>\n",
              "      <td>1</td>\n",
              "      <td>0</td>\n",
              "      <td>2</td>\n",
              "      <td>39</td>\n",
              "      <td>1.0</td>\n",
              "      <td>10</td>\n",
              "      <td>0</td>\n",
              "      <td>50</td>\n",
              "      <td>0</td>\n",
              "    </tr>\n",
              "    <tr>\n",
              "      <th>4</th>\n",
              "      <td>48945</td>\n",
              "      <td>8</td>\n",
              "      <td>18</td>\n",
              "      <td>0</td>\n",
              "      <td>1</td>\n",
              "      <td>0</td>\n",
              "      <td>1</td>\n",
              "      <td>45</td>\n",
              "      <td>3.0</td>\n",
              "      <td>2</td>\n",
              "      <td>0</td>\n",
              "      <td>73</td>\n",
              "      <td>0</td>\n",
              "    </tr>\n",
              "    <tr>\n",
              "      <th>...</th>\n",
              "      <td>...</td>\n",
              "      <td>...</td>\n",
              "      <td>...</td>\n",
              "      <td>...</td>\n",
              "      <td>...</td>\n",
              "      <td>...</td>\n",
              "      <td>...</td>\n",
              "      <td>...</td>\n",
              "      <td>...</td>\n",
              "      <td>...</td>\n",
              "      <td>...</td>\n",
              "      <td>...</td>\n",
              "      <td>...</td>\n",
              "    </tr>\n",
              "    <tr>\n",
              "      <th>54802</th>\n",
              "      <td>6915</td>\n",
              "      <td>7</td>\n",
              "      <td>5</td>\n",
              "      <td>0</td>\n",
              "      <td>1</td>\n",
              "      <td>0</td>\n",
              "      <td>2</td>\n",
              "      <td>31</td>\n",
              "      <td>1.0</td>\n",
              "      <td>2</td>\n",
              "      <td>0</td>\n",
              "      <td>49</td>\n",
              "      <td>0</td>\n",
              "    </tr>\n",
              "    <tr>\n",
              "      <th>54804</th>\n",
              "      <td>74592</td>\n",
              "      <td>4</td>\n",
              "      <td>19</td>\n",
              "      <td>2</td>\n",
              "      <td>0</td>\n",
              "      <td>0</td>\n",
              "      <td>1</td>\n",
              "      <td>37</td>\n",
              "      <td>2.0</td>\n",
              "      <td>6</td>\n",
              "      <td>0</td>\n",
              "      <td>56</td>\n",
              "      <td>0</td>\n",
              "    </tr>\n",
              "    <tr>\n",
              "      <th>54805</th>\n",
              "      <td>13918</td>\n",
              "      <td>0</td>\n",
              "      <td>0</td>\n",
              "      <td>0</td>\n",
              "      <td>1</td>\n",
              "      <td>0</td>\n",
              "      <td>1</td>\n",
              "      <td>27</td>\n",
              "      <td>5.0</td>\n",
              "      <td>3</td>\n",
              "      <td>0</td>\n",
              "      <td>79</td>\n",
              "      <td>0</td>\n",
              "    </tr>\n",
              "    <tr>\n",
              "      <th>54806</th>\n",
              "      <td>13614</td>\n",
              "      <td>7</td>\n",
              "      <td>33</td>\n",
              "      <td>3</td>\n",
              "      <td>1</td>\n",
              "      <td>2</td>\n",
              "      <td>1</td>\n",
              "      <td>29</td>\n",
              "      <td>1.0</td>\n",
              "      <td>2</td>\n",
              "      <td>0</td>\n",
              "      <td>45</td>\n",
              "      <td>0</td>\n",
              "    </tr>\n",
              "    <tr>\n",
              "      <th>54807</th>\n",
              "      <td>51526</td>\n",
              "      <td>2</td>\n",
              "      <td>14</td>\n",
              "      <td>0</td>\n",
              "      <td>1</td>\n",
              "      <td>0</td>\n",
              "      <td>1</td>\n",
              "      <td>27</td>\n",
              "      <td>1.0</td>\n",
              "      <td>5</td>\n",
              "      <td>0</td>\n",
              "      <td>49</td>\n",
              "      <td>0</td>\n",
              "    </tr>\n",
              "  </tbody>\n",
              "</table>\n",
              "<p>51319 rows × 13 columns</p>\n",
              "</div>\n",
              "    <div class=\"colab-df-buttons\">\n",
              "\n",
              "  <div class=\"colab-df-container\">\n",
              "    <button class=\"colab-df-convert\" onclick=\"convertToInteractive('df-8557bad0-582c-4294-83df-e7cf1c77013c')\"\n",
              "            title=\"Convert this dataframe to an interactive table.\"\n",
              "            style=\"display:none;\">\n",
              "\n",
              "  <svg xmlns=\"http://www.w3.org/2000/svg\" height=\"24px\" viewBox=\"0 -960 960 960\">\n",
              "    <path d=\"M120-120v-720h720v720H120Zm60-500h600v-160H180v160Zm220 220h160v-160H400v160Zm0 220h160v-160H400v160ZM180-400h160v-160H180v160Zm440 0h160v-160H620v160ZM180-180h160v-160H180v160Zm440 0h160v-160H620v160Z\"/>\n",
              "  </svg>\n",
              "    </button>\n",
              "\n",
              "  <style>\n",
              "    .colab-df-container {\n",
              "      display:flex;\n",
              "      gap: 12px;\n",
              "    }\n",
              "\n",
              "    .colab-df-convert {\n",
              "      background-color: #E8F0FE;\n",
              "      border: none;\n",
              "      border-radius: 50%;\n",
              "      cursor: pointer;\n",
              "      display: none;\n",
              "      fill: #1967D2;\n",
              "      height: 32px;\n",
              "      padding: 0 0 0 0;\n",
              "      width: 32px;\n",
              "    }\n",
              "\n",
              "    .colab-df-convert:hover {\n",
              "      background-color: #E2EBFA;\n",
              "      box-shadow: 0px 1px 2px rgba(60, 64, 67, 0.3), 0px 1px 3px 1px rgba(60, 64, 67, 0.15);\n",
              "      fill: #174EA6;\n",
              "    }\n",
              "\n",
              "    .colab-df-buttons div {\n",
              "      margin-bottom: 4px;\n",
              "    }\n",
              "\n",
              "    [theme=dark] .colab-df-convert {\n",
              "      background-color: #3B4455;\n",
              "      fill: #D2E3FC;\n",
              "    }\n",
              "\n",
              "    [theme=dark] .colab-df-convert:hover {\n",
              "      background-color: #434B5C;\n",
              "      box-shadow: 0px 1px 3px 1px rgba(0, 0, 0, 0.15);\n",
              "      filter: drop-shadow(0px 1px 2px rgba(0, 0, 0, 0.3));\n",
              "      fill: #FFFFFF;\n",
              "    }\n",
              "  </style>\n",
              "\n",
              "    <script>\n",
              "      const buttonEl =\n",
              "        document.querySelector('#df-8557bad0-582c-4294-83df-e7cf1c77013c button.colab-df-convert');\n",
              "      buttonEl.style.display =\n",
              "        google.colab.kernel.accessAllowed ? 'block' : 'none';\n",
              "\n",
              "      async function convertToInteractive(key) {\n",
              "        const element = document.querySelector('#df-8557bad0-582c-4294-83df-e7cf1c77013c');\n",
              "        const dataTable =\n",
              "          await google.colab.kernel.invokeFunction('convertToInteractive',\n",
              "                                                    [key], {});\n",
              "        if (!dataTable) return;\n",
              "\n",
              "        const docLinkHtml = 'Like what you see? Visit the ' +\n",
              "          '<a target=\"_blank\" href=https://colab.research.google.com/notebooks/data_table.ipynb>data table notebook</a>'\n",
              "          + ' to learn more about interactive tables.';\n",
              "        element.innerHTML = '';\n",
              "        dataTable['output_type'] = 'display_data';\n",
              "        await google.colab.output.renderOutput(dataTable, element);\n",
              "        const docLink = document.createElement('div');\n",
              "        docLink.innerHTML = docLinkHtml;\n",
              "        element.appendChild(docLink);\n",
              "      }\n",
              "    </script>\n",
              "  </div>\n",
              "\n",
              "\n",
              "<div id=\"df-4fc71d4a-6c94-4106-987d-f7de9106537f\">\n",
              "  <button class=\"colab-df-quickchart\" onclick=\"quickchart('df-4fc71d4a-6c94-4106-987d-f7de9106537f')\"\n",
              "            title=\"Suggest charts\"\n",
              "            style=\"display:none;\">\n",
              "\n",
              "<svg xmlns=\"http://www.w3.org/2000/svg\" height=\"24px\"viewBox=\"0 0 24 24\"\n",
              "     width=\"24px\">\n",
              "    <g>\n",
              "        <path d=\"M19 3H5c-1.1 0-2 .9-2 2v14c0 1.1.9 2 2 2h14c1.1 0 2-.9 2-2V5c0-1.1-.9-2-2-2zM9 17H7v-7h2v7zm4 0h-2V7h2v10zm4 0h-2v-4h2v4z\"/>\n",
              "    </g>\n",
              "</svg>\n",
              "  </button>\n",
              "\n",
              "<style>\n",
              "  .colab-df-quickchart {\n",
              "      --bg-color: #E8F0FE;\n",
              "      --fill-color: #1967D2;\n",
              "      --hover-bg-color: #E2EBFA;\n",
              "      --hover-fill-color: #174EA6;\n",
              "      --disabled-fill-color: #AAA;\n",
              "      --disabled-bg-color: #DDD;\n",
              "  }\n",
              "\n",
              "  [theme=dark] .colab-df-quickchart {\n",
              "      --bg-color: #3B4455;\n",
              "      --fill-color: #D2E3FC;\n",
              "      --hover-bg-color: #434B5C;\n",
              "      --hover-fill-color: #FFFFFF;\n",
              "      --disabled-bg-color: #3B4455;\n",
              "      --disabled-fill-color: #666;\n",
              "  }\n",
              "\n",
              "  .colab-df-quickchart {\n",
              "    background-color: var(--bg-color);\n",
              "    border: none;\n",
              "    border-radius: 50%;\n",
              "    cursor: pointer;\n",
              "    display: none;\n",
              "    fill: var(--fill-color);\n",
              "    height: 32px;\n",
              "    padding: 0;\n",
              "    width: 32px;\n",
              "  }\n",
              "\n",
              "  .colab-df-quickchart:hover {\n",
              "    background-color: var(--hover-bg-color);\n",
              "    box-shadow: 0 1px 2px rgba(60, 64, 67, 0.3), 0 1px 3px 1px rgba(60, 64, 67, 0.15);\n",
              "    fill: var(--button-hover-fill-color);\n",
              "  }\n",
              "\n",
              "  .colab-df-quickchart-complete:disabled,\n",
              "  .colab-df-quickchart-complete:disabled:hover {\n",
              "    background-color: var(--disabled-bg-color);\n",
              "    fill: var(--disabled-fill-color);\n",
              "    box-shadow: none;\n",
              "  }\n",
              "\n",
              "  .colab-df-spinner {\n",
              "    border: 2px solid var(--fill-color);\n",
              "    border-color: transparent;\n",
              "    border-bottom-color: var(--fill-color);\n",
              "    animation:\n",
              "      spin 1s steps(1) infinite;\n",
              "  }\n",
              "\n",
              "  @keyframes spin {\n",
              "    0% {\n",
              "      border-color: transparent;\n",
              "      border-bottom-color: var(--fill-color);\n",
              "      border-left-color: var(--fill-color);\n",
              "    }\n",
              "    20% {\n",
              "      border-color: transparent;\n",
              "      border-left-color: var(--fill-color);\n",
              "      border-top-color: var(--fill-color);\n",
              "    }\n",
              "    30% {\n",
              "      border-color: transparent;\n",
              "      border-left-color: var(--fill-color);\n",
              "      border-top-color: var(--fill-color);\n",
              "      border-right-color: var(--fill-color);\n",
              "    }\n",
              "    40% {\n",
              "      border-color: transparent;\n",
              "      border-right-color: var(--fill-color);\n",
              "      border-top-color: var(--fill-color);\n",
              "    }\n",
              "    60% {\n",
              "      border-color: transparent;\n",
              "      border-right-color: var(--fill-color);\n",
              "    }\n",
              "    80% {\n",
              "      border-color: transparent;\n",
              "      border-right-color: var(--fill-color);\n",
              "      border-bottom-color: var(--fill-color);\n",
              "    }\n",
              "    90% {\n",
              "      border-color: transparent;\n",
              "      border-bottom-color: var(--fill-color);\n",
              "    }\n",
              "  }\n",
              "</style>\n",
              "\n",
              "  <script>\n",
              "    async function quickchart(key) {\n",
              "      const quickchartButtonEl =\n",
              "        document.querySelector('#' + key + ' button');\n",
              "      quickchartButtonEl.disabled = true;  // To prevent multiple clicks.\n",
              "      quickchartButtonEl.classList.add('colab-df-spinner');\n",
              "      try {\n",
              "        const charts = await google.colab.kernel.invokeFunction(\n",
              "            'suggestCharts', [key], {});\n",
              "      } catch (error) {\n",
              "        console.error('Error during call to suggestCharts:', error);\n",
              "      }\n",
              "      quickchartButtonEl.classList.remove('colab-df-spinner');\n",
              "      quickchartButtonEl.classList.add('colab-df-quickchart-complete');\n",
              "    }\n",
              "    (() => {\n",
              "      let quickchartButtonEl =\n",
              "        document.querySelector('#df-4fc71d4a-6c94-4106-987d-f7de9106537f button');\n",
              "      quickchartButtonEl.style.display =\n",
              "        google.colab.kernel.accessAllowed ? 'block' : 'none';\n",
              "    })();\n",
              "  </script>\n",
              "</div>\n",
              "    </div>\n",
              "  </div>\n"
            ]
          },
          "metadata": {},
          "execution_count": 10
        }
      ],
      "source": [
        "# Fungsi untuk mengatasi outlier dengan metode IQR\n",
        "def atasi_outlier_iqr(dataframe, kolom):\n",
        "    Q1 = dataframe[kolom].quantile(0.25)\n",
        "    Q3 = dataframe[kolom].quantile(0.75)\n",
        "    IQR = Q3 - Q1\n",
        "\n",
        "    batas_bawah = Q1 - 1.5 * IQR\n",
        "    batas_atas = Q3 + 1.5 * IQR\n",
        "\n",
        "    dataframe_tanpa_outlier = dataframe[(dataframe[kolom] >= batas_bawah) & (dataframe[kolom] <= batas_atas)]\n",
        "\n",
        "    return dataframe_tanpa_outlier\n",
        "\n",
        "# Mengatasi outlier pada kolom atribut 'length_of_service'\n",
        "dataset = atasi_outlier_iqr(dataset, 'length_of_service')\n",
        "\n",
        "# Tampilkan hasil\n",
        "print(\"Dataset tanpa outlier:\")\n",
        "dataset"
      ]
    },
    {
      "cell_type": "markdown",
      "metadata": {
        "id": "KKWIV8Og0WjY"
      },
      "source": [
        "### *Z-Score*"
      ]
    },
    {
      "cell_type": "code",
      "execution_count": null,
      "metadata": {
        "id": "6GK9SuNFPSth"
      },
      "outputs": [],
      "source": [
        "# import numpy as np\n",
        "# from scipy import stats\n",
        "\n",
        "# # Fungsi untuk mengatasi outlier dengan metode Z-Score\n",
        "# def atasi_outlier_zscore(dataframe, kolom, threshold=3):\n",
        "#     z_scores = np.abs(stats.zscore(dataframe[kolom]))\n",
        "#     dataframe_tanpa_outlier = dataframe[(z_scores < threshold)]\n",
        "\n",
        "#     return dataframe_tanpa_outlier\n",
        "\n",
        "# # Mengatasi outlier dalam kolom 'Nilai' dengan threshold default 3\n",
        "# dataset = atasi_outlier_zscore(dataset, 'length_of_service')\n",
        "\n",
        "# # Tampilkan hasil\n",
        "# print(\"Dataset tanpa outlier:\")\n",
        "# dataset"
      ]
    },
    {
      "cell_type": "code",
      "execution_count": null,
      "metadata": {
        "colab": {
          "base_uri": "https://localhost:8080/"
        },
        "id": "M7lVJ_qVOzsU",
        "outputId": "652f251c-790e-41ce-a983-e94843477be6"
      },
      "outputs": [
        {
          "output_type": "stream",
          "name": "stdout",
          "text": [
            "unique values in \"employee_id\":\n",
            " [65438 65141  7513 ... 13918 13614 51526]\n",
            "unique values in \"department\":\n",
            " [7 4 8 0 6 5 1 2 3]\n",
            "unique values in \"region\":\n",
            " [31 14 10 15 18 11 12 27  0 28 24  6  5  2 29 20  8  4  7 17 21  1 19 23\n",
            "  3 13 32 25 30 26 16 22 33  9]\n",
            "unique values in \"education\":\n",
            " [2 0 3 1]\n",
            "unique values in \"gender\":\n",
            " [0 1]\n",
            "unique values in \"recruitment_channel\":\n",
            " [2 0 1]\n",
            "unique values in \"no_of_trainings\":\n",
            " [ 1  2  3  4  7  5  6  8 10  9]\n",
            "unique values in \"age\":\n",
            " [35 30 34 39 45 31 33 28 32 49 37 38 41 27 29 26 24 57 40 42 23 44 50 56\n",
            " 20 25 47 36 46 43 22 54 58 48 53 60 59 51 52 55 21]\n",
            "unique values in \"previous_year_rating\":\n",
            " [5. 3. 1. 4. 0. 2.]\n",
            "unique values in \"length_of_service\":\n",
            " [ 8  4  7 10  2  5  6  1  3  9 11 12 13]\n",
            "unique values in \"awards_won?\":\n",
            " [0 1]\n",
            "unique values in \"avg_training_score\":\n",
            " [49 60 50 73 85 59 63 83 54 77 84 51 46 75 57 70 68 79 80 44 72 61 48 58\n",
            " 87 47 88 71 65 62 52 53 78 91 82 69 55 74 86 90 92 67 89 56 76 81 45 64\n",
            " 39 94 93 66 95 42 96 99 43 40 97 41 98]\n",
            "unique values in \"is_promoted\":\n",
            " [0 1]\n"
          ]
        }
      ],
      "source": [
        "# Cek unique values pada kolom atribut dataset setelah handling outlier\n",
        "for i in dataset.columns:\n",
        "    print('unique values in \"{}\":\\n'.format(i),dataset[i].unique())"
      ]
    },
    {
      "cell_type": "markdown",
      "metadata": {
        "id": "jrUijofBv_jL"
      },
      "source": [
        "## Data Duplikat"
      ]
    },
    {
      "cell_type": "code",
      "execution_count": null,
      "metadata": {
        "colab": {
          "base_uri": "https://localhost:8080/"
        },
        "id": "b6PKTCtO66cs",
        "outputId": "f034c364-e616-4eb7-863b-a5256858c9ee"
      },
      "outputs": [
        {
          "output_type": "execute_result",
          "data": {
            "text/plain": [
              "0"
            ]
          },
          "metadata": {},
          "execution_count": 12
        }
      ],
      "source": [
        "# Cek data duplikat\n",
        "dataset.duplicated().sum()"
      ]
    },
    {
      "cell_type": "markdown",
      "metadata": {
        "id": "FytDsWV1wJAz"
      },
      "source": [
        "## Normalisasi Data"
      ]
    },
    {
      "cell_type": "markdown",
      "metadata": {
        "id": "T4LNmk7I02Pu"
      },
      "source": [
        "### *Min-Max Scaler*"
      ]
    },
    {
      "cell_type": "code",
      "execution_count": null,
      "metadata": {
        "id": "riVS3FC5WaRf"
      },
      "outputs": [],
      "source": [
        "# from sklearn.preprocessing import MinMaxScaler\n",
        "\n",
        "# # Memisahkan fitur dan target\n",
        "# X = dataset.drop('is_promoted', axis=1)\n",
        "# y = dataset['is_promoted']\n",
        "\n",
        "# # Memilih fitur yang ingin dinormalisasi\n",
        "# dataset = pd.DataFrame(X)\n",
        "\n",
        "# # Membuat objek MinMaxScaler\n",
        "# scaler = MinMaxScaler()\n",
        "\n",
        "# # Melakukan normalisasi Min-Max\n",
        "# normalized_data = scaler.fit_transform(dataset)\n",
        "\n",
        "# # Mengonversi hasil normalisasi kembali ke DataFrame\n",
        "# X_Normalized = pd.DataFrame(normalized_data, columns=dataset.columns)"
      ]
    },
    {
      "cell_type": "markdown",
      "metadata": {
        "id": "blQK0xZv1Lsp"
      },
      "source": [
        "### *Standard Scaler*"
      ]
    },
    {
      "cell_type": "code",
      "execution_count": null,
      "metadata": {
        "id": "eMmktH2QX0t1"
      },
      "outputs": [],
      "source": [
        "# from sklearn.preprocessing import StandardScaler\n",
        "\n",
        "# # Memisahkan fitur dan target\n",
        "# X = dataset.drop('is_promoted', axis=1)\n",
        "# y = dataset['is_promoted']\n",
        "\n",
        "# # Memilih fitur yang ingin dinormalisasi\n",
        "# dataset = pd.DataFrame(X)\n",
        "\n",
        "# # Membuat objek StandardScaler\n",
        "# scaler = StandardScaler()\n",
        "\n",
        "# # Melakukan normalisasi Standard Scaler\n",
        "# normalized_data = scaler.fit_transform(dataset)\n",
        "\n",
        "# # Mengonversi hasil normalisasi kembali ke DataFrame\n",
        "# X_Normalized = pd.DataFrame(normalized_data, columns=dataset.columns)"
      ]
    },
    {
      "cell_type": "markdown",
      "metadata": {
        "id": "bmpoEEY71UgE"
      },
      "source": [
        "### *Robust Scaler*"
      ]
    },
    {
      "cell_type": "code",
      "execution_count": null,
      "metadata": {
        "id": "8arnw3GWY5nq"
      },
      "outputs": [],
      "source": [
        "from sklearn.preprocessing import RobustScaler\n",
        "\n",
        "# Memisahkan fitur dan target\n",
        "X = dataset.drop('is_promoted', axis=1)\n",
        "y = dataset['is_promoted']\n",
        "\n",
        "# Memilih fitur yang ingin dinormalisasi\n",
        "dataset = pd.DataFrame(X)\n",
        "\n",
        "# Membuat objek RobustScaler\n",
        "scaler = RobustScaler()\n",
        "\n",
        "# Melakukan normalisasi Robust\n",
        "normalized_data = scaler.fit_transform(dataset)\n",
        "\n",
        "# Mengonversi hasil normalisasi kembali ke DataFrame\n",
        "X_Normalized = pd.DataFrame(normalized_data, columns=dataset.columns)"
      ]
    },
    {
      "cell_type": "markdown",
      "metadata": {
        "id": "9nZGXXotwSef"
      },
      "source": [
        "# *Feature Engineering*"
      ]
    },
    {
      "cell_type": "markdown",
      "metadata": {
        "id": "f5OxBBKTwfwD"
      },
      "source": [
        "## *Data Balancing*"
      ]
    },
    {
      "cell_type": "code",
      "execution_count": null,
      "metadata": {
        "colab": {
          "base_uri": "https://localhost:8080/"
        },
        "id": "eBcU-KShQh3L",
        "outputId": "13e9b7c3-e46a-4e68-f0e7-784bdb41a8e1"
      },
      "outputs": [
        {
          "output_type": "stream",
          "name": "stdout",
          "text": [
            "0    46885\n",
            "1     4434\n",
            "Name: is_promoted, dtype: int64\n"
          ]
        }
      ],
      "source": [
        "# Menghitung jumlah sampel pada kelas target\n",
        "class_counts = y.value_counts()\n",
        "\n",
        "# Menampilkan jumlah sampel pada setiap kelas\n",
        "print(class_counts)"
      ]
    },
    {
      "cell_type": "markdown",
      "metadata": {
        "id": "tS2Vz2JD1eyt"
      },
      "source": [
        "### *SMOTE*"
      ]
    },
    {
      "cell_type": "code",
      "execution_count": null,
      "metadata": {
        "colab": {
          "base_uri": "https://localhost:8080/"
        },
        "id": "MLQ6qwMURLxV",
        "outputId": "16a0ab32-7746-468c-8177-6ba9762fdebd"
      },
      "outputs": [
        {
          "output_type": "stream",
          "name": "stdout",
          "text": [
            "Sebelum Diseimbangkan:\n",
            "0    46885\n",
            "1     4434\n",
            "Name: is_promoted, dtype: int64\n",
            "Setelah Diseimbangkan:\n",
            "0    46885\n",
            "1    46885\n",
            "Name: is_promoted, dtype: int64\n"
          ]
        }
      ],
      "source": [
        "from imblearn.over_sampling import SMOTE\n",
        "\n",
        "# Buat objek SMOTE\n",
        "smote = SMOTE()\n",
        "\n",
        "# Lakukan SMOTE pada data\n",
        "X_resampled, y_resampled = smote.fit_resample(X_Normalized, y)\n",
        "\n",
        "# Menampilkan perbandingan jumlah sampel setelah penerapan SMOTE\n",
        "print('Sebelum Diseimbangkan:')\n",
        "print(y.value_counts())\n",
        "print('Setelah Diseimbangkan:')\n",
        "print(y_resampled.value_counts())"
      ]
    },
    {
      "cell_type": "markdown",
      "metadata": {
        "id": "Yin7GBVT1qIM"
      },
      "source": [
        "### *Random Over Sampling*"
      ]
    },
    {
      "cell_type": "code",
      "execution_count": null,
      "metadata": {
        "id": "SOZhL-pHA3Lu"
      },
      "outputs": [],
      "source": [
        "# from imblearn.over_sampling import RandomOverSampler\n",
        "\n",
        "# # Buat objek Random Over Sampling\n",
        "# ros = RandomOverSampler(random_state=42)\n",
        "\n",
        "# # Lakukan Random Over Sampling pada data\n",
        "# X_resampled, y_resampled = ros.fit_resample(X_Normalized, y)\n",
        "\n",
        "# # Menampilkan perbandingan jumlah sampel setelah penerapan Random Over Sampling\n",
        "# print('Sebelum Diseimbangkan:')\n",
        "# print(y.value_counts())\n",
        "# print('Setelah Diseimbangkan:')\n",
        "# print(y_resampled.value_counts())"
      ]
    },
    {
      "cell_type": "markdown",
      "metadata": {
        "id": "Qerb0ast13oH"
      },
      "source": [
        "### *Random Under Sampling*"
      ]
    },
    {
      "cell_type": "code",
      "execution_count": null,
      "metadata": {
        "id": "7RMs5f48DHl8"
      },
      "outputs": [],
      "source": [
        "# from imblearn.under_sampling import RandomUnderSampler\n",
        "\n",
        "# # Buat objek Random Under Sampling\n",
        "# rus = RandomUnderSampler(random_state=42)\n",
        "\n",
        "# # Lakukan Random Under Sampling pada data\n",
        "# X_resampled, y_resampled = rus.fit_resample(X_Normalized, y)\n",
        "\n",
        "# # Menampilkan perbandingan jumlah sampel setelah penerapan Random Under Sampling\n",
        "# print('Sebelum Diseimbangkan:')\n",
        "# print(y.value_counts())\n",
        "# print('Setelah Diseimbangkan:')\n",
        "# print(y_resampled.value_counts())"
      ]
    },
    {
      "cell_type": "markdown",
      "metadata": {
        "id": "5VWgVytZwldl"
      },
      "source": [
        "## *Feature Selection*"
      ]
    },
    {
      "cell_type": "markdown",
      "metadata": {
        "id": "ZJ-LY2731_7u"
      },
      "source": [
        "### *Feature Importances*"
      ]
    },
    {
      "cell_type": "code",
      "execution_count": null,
      "metadata": {
        "colab": {
          "base_uri": "https://localhost:8080/"
        },
        "id": "Xo7-cXvap_Qi",
        "outputId": "9002edf2-646d-4f03-8deb-9e54a12225f7"
      },
      "outputs": [
        {
          "output_type": "stream",
          "name": "stdout",
          "text": [
            "gender: 1.72%\n",
            "no_of_trainings: 2.22%\n",
            "recruitment_channel: 2.28%\n",
            "education: 2.45%\n",
            "awards_won?: 3.58%\n",
            "employee_id: 8.36%\n",
            "department: 9.25%\n",
            "region: 9.76%\n",
            "age: 9.84%\n",
            "length_of_service: 10.25%\n",
            "previous_year_rating: 18.75%\n",
            "avg_training_score: 21.54%\n"
          ]
        }
      ],
      "source": [
        "from sklearn.ensemble import RandomForestClassifier\n",
        "\n",
        "# Memisahkan fitur dan target\n",
        "X = X_resampled\n",
        "y = y_resampled\n",
        "\n",
        "# Membuat model klasifikasi\n",
        "model = RandomForestClassifier()\n",
        "\n",
        "# Melatih model pada data\n",
        "model.fit(X, y)\n",
        "\n",
        "# Melakukan seleksi fitur dengan feature importance\n",
        "atribut = dataset.columns\n",
        "seleksi_fitur = model.feature_importances_\n",
        "featureIndexesByImportance = seleksi_fitur.argsort()\n",
        "for index in featureIndexesByImportance:\n",
        "  print('{}: {:.2f}%'.format(atribut[index], (seleksi_fitur[index] *100.0)))"
      ]
    },
    {
      "cell_type": "code",
      "execution_count": null,
      "metadata": {
        "colab": {
          "base_uri": "https://localhost:8080/"
        },
        "id": "g0_gX14OT59n",
        "outputId": "307b2a96-1a34-46c6-c94b-dd47f4c9a819"
      },
      "outputs": [
        {
          "output_type": "execute_result",
          "data": {
            "text/plain": [
              "['employee_id',\n",
              " 'department',\n",
              " 'region',\n",
              " 'education',\n",
              " 'age',\n",
              " 'previous_year_rating',\n",
              " 'length_of_service',\n",
              " 'awards_won?',\n",
              " 'avg_training_score']"
            ]
          },
          "metadata": {},
          "execution_count": 17
        }
      ],
      "source": [
        "# Menghapus atribut yang memiliki pengaruh paling rendah\n",
        "dataset = dataset.drop(['gender', 'recruitment_channel', 'no_of_trainings'], axis=1)\n",
        "dataset.columns.tolist()"
      ]
    },
    {
      "cell_type": "markdown",
      "metadata": {
        "id": "0zQsCnoa2OIL"
      },
      "source": [
        "### *RFE*"
      ]
    },
    {
      "cell_type": "code",
      "execution_count": null,
      "metadata": {
        "id": "SJXtj3oYYB8b"
      },
      "outputs": [],
      "source": [
        "# from sklearn.feature_selection import RFE\n",
        "# from sklearn.ensemble import RandomForestClassifier\n",
        "\n",
        "# # # Memisahkan fitur dan target\n",
        "# X = X_resampled\n",
        "# y = y_resampled\n",
        "\n",
        "# # Melakukan seleksi fitur dengan rfe\n",
        "# modelRF = RandomForestClassifier()\n",
        "# rfe = RFE(estimator=modelRF, n_features_to_select=12)\n",
        "# rfe = rfe.fit(X, y)\n",
        "# print(rfe.support_)\n",
        "# print('\\n', rfe.ranking_)\n",
        "# print('\\n', rfe.get_feature_names_out(input_features=None))"
      ]
    },
    {
      "cell_type": "code",
      "execution_count": null,
      "metadata": {
        "id": "fjNAQeB8U7PR"
      },
      "outputs": [],
      "source": [
        "# # Menghapus atribut yang memiliki pengaruh paling rendah\n",
        "# dataset = dataset.drop(['gender', 'recruitment_channel', 'no_of_trainings'], axis=1)\n",
        "# dataset.columns.tolist()"
      ]
    },
    {
      "cell_type": "markdown",
      "metadata": {
        "id": "OYTZvozIwrDm"
      },
      "source": [
        "# *Data Split*"
      ]
    },
    {
      "cell_type": "markdown",
      "metadata": {
        "id": "5KNhcdzU2Xbb"
      },
      "source": [
        "### *Cross Validation*"
      ]
    },
    {
      "cell_type": "code",
      "execution_count": null,
      "metadata": {
        "id": "SOBtzkrLVLhv"
      },
      "outputs": [],
      "source": [
        "# from sklearn.model_selection import KFold\n",
        "\n",
        "# kf = KFold(n_splits=10, shuffle=True, random_state=42)\n",
        "\n",
        "# # Bagi data menjadi data training dan data testing\n",
        "# for train_index, test_index in kf.split(X):\n",
        "#   X_train, X_test = X.iloc[train_index], X.iloc[test_index]\n",
        "#   y_train, y_test = y.iloc[train_index], y.iloc[test_index]"
      ]
    },
    {
      "cell_type": "code",
      "source": [
        "from sklearn.model_selection import KFold\n",
        "\n",
        "kf = KFold(n_splits=10, shuffle=True, random_state=42)\n",
        "cnt = 1\n",
        "\n",
        "# Bagi data menjadi data training dan data testing\n",
        "for train_index, test_index in kf.split(X, y):\n",
        "  print(f'Fold:{cnt}, Train set: {len(train_index)}, Test set: {len(test_index)}')\n",
        "  cnt += 1\n",
        "\n",
        "  # X_train, X_test = X.iloc[train_index], X.iloc[test_index]\n",
        "  # y_train, y_test = y.iloc[train_index], y.iloc[test_index]"
      ],
      "metadata": {
        "colab": {
          "base_uri": "https://localhost:8080/"
        },
        "id": "S8xqZyUITzk2",
        "outputId": "fea7d24f-f0c0-4d71-d7d5-780e089521ce"
      },
      "execution_count": null,
      "outputs": [
        {
          "output_type": "stream",
          "name": "stdout",
          "text": [
            "Fold:1, Train set: 84393, Test set: 9377\n",
            "Fold:2, Train set: 84393, Test set: 9377\n",
            "Fold:3, Train set: 84393, Test set: 9377\n",
            "Fold:4, Train set: 84393, Test set: 9377\n",
            "Fold:5, Train set: 84393, Test set: 9377\n",
            "Fold:6, Train set: 84393, Test set: 9377\n",
            "Fold:7, Train set: 84393, Test set: 9377\n",
            "Fold:8, Train set: 84393, Test set: 9377\n",
            "Fold:9, Train set: 84393, Test set: 9377\n",
            "Fold:10, Train set: 84393, Test set: 9377\n"
          ]
        }
      ]
    },
    {
      "cell_type": "markdown",
      "metadata": {
        "id": "fLG9iTd32j4P"
      },
      "source": [
        "### Split Data Dengan Rasio"
      ]
    },
    {
      "cell_type": "code",
      "execution_count": null,
      "metadata": {
        "id": "vIlYds-zW_iW"
      },
      "outputs": [],
      "source": [
        "# from sklearn.model_selection import train_test_split\n",
        "\n",
        "# # Bagi data menjadi data training dan data testing\n",
        "# X_train, X_test, y_train, y_test = train_test_split(X, y, test_size=0.2, random_state=42)\n",
        "\n",
        "# # Menampilkan ukuran data training dan data test\n",
        "# print(\"Ukuran Data Training:\", X_train.shape)\n",
        "# print(\"Ukuran Data Test:\", X_test.shape)"
      ]
    },
    {
      "cell_type": "markdown",
      "metadata": {
        "id": "Sxo6FgwvwxF2"
      },
      "source": [
        "# *Model Training*"
      ]
    },
    {
      "cell_type": "code",
      "execution_count": null,
      "metadata": {
        "colab": {
          "base_uri": "https://localhost:8080/"
        },
        "id": "P-hLLg98x7OV",
        "outputId": "a4221113-26a1-4003-a60c-23cd1da70a10"
      },
      "outputs": [
        {
          "output_type": "stream",
          "name": "stdout",
          "text": [
            "Akurasi: 0.939\n"
          ]
        }
      ],
      "source": [
        "from sklearn.neighbors import KNeighborsClassifier\n",
        "from sklearn.metrics import accuracy_score\n",
        "\n",
        "# Inisialisasi model KNN\n",
        "knn = KNeighborsClassifier(n_neighbors=2)\n",
        "\n",
        "# Latih model KNN pada data latih\n",
        "knn.fit(X_train, y_train)\n",
        "\n",
        "# Menampilkan nilai akurasi model\n",
        "print('Akurasi: {:.3f}'.format(accuracy_score(y_test, knn.predict(X_test))))"
      ]
    },
    {
      "cell_type": "markdown",
      "metadata": {
        "id": "OREAi2P9w5Yd"
      },
      "source": [
        "# *Model Evaluation*"
      ]
    },
    {
      "cell_type": "code",
      "execution_count": null,
      "metadata": {
        "colab": {
          "base_uri": "https://localhost:8080/"
        },
        "id": "uCaVrGEtZQcH",
        "outputId": "14abde4c-bafb-4d36-a375-a51e462608f2"
      },
      "outputs": [
        {
          "output_type": "stream",
          "name": "stdout",
          "text": [
            "Accuracy: 0.9393196118161459\n",
            "Precision: 0.9088669950738916\n",
            "Recall: 0.9725455743465846\n"
          ]
        }
      ],
      "source": [
        "from sklearn.metrics import precision_score, recall_score\n",
        "\n",
        "# Melakukan prediksi pada data uji\n",
        "y_pred = knn.predict(X_test)\n",
        "\n",
        "# Menghitung metrik evaluasi model\n",
        "accuracy = accuracy_score(y_test, y_pred)\n",
        "precision = precision_score(y_test, y_pred)\n",
        "recall = recall_score(y_test, y_pred)\n",
        "\n",
        "# Menampilkan metrik evaluasi model\n",
        "print(\"Accuracy:\", accuracy)\n",
        "print(\"Precision:\", precision)\n",
        "print(\"Recall:\", recall)"
      ]
    },
    {
      "cell_type": "markdown",
      "metadata": {
        "id": "JyYfDc_QxCHy"
      },
      "source": [
        "## *Confusion Matrix*"
      ]
    },
    {
      "cell_type": "code",
      "execution_count": null,
      "metadata": {
        "colab": {
          "base_uri": "https://localhost:8080/",
          "height": 507
        },
        "id": "VYZJLr4xZUAz",
        "outputId": "4d79b9a4-defd-4501-807e-67578a779ff9"
      },
      "outputs": [
        {
          "output_type": "display_data",
          "data": {
            "text/plain": [
              "<Figure size 700x500 with 2 Axes>"
            ],
            "image/png": "[encoded data removed]"
          },
          "metadata": {}
        }
      ],
      "source": [
        "from sklearn.metrics import confusion_matrix, roc_auc_score, roc_curve\n",
        "import seaborn as sns\n",
        "\n",
        "# Menghitung confusion matrix\n",
        "confusion_mat = confusion_matrix(y_pred, y_test)\n",
        "\n",
        "# Menampilkan confusion matrix dalam bentuk heatmap\n",
        "plt.figure(figsize=(7, 5))\n",
        "sns.heatmap(confusion_mat, annot=True, fmt=\"d\",\n",
        "            xticklabels = ['Promosi', 'Tidak Promosi'],\n",
        "            yticklabels = ['Promosi', 'Tidak Promosi'])\n",
        "plt.ylabel('Aktual', fontsize=10)\n",
        "plt.xlabel('Prediksi', fontsize=10)\n",
        "plt.title('Confusion Matrix', fontsize=13)\n",
        "plt.show()"
      ]
    },
    {
      "cell_type": "markdown",
      "metadata": {
        "id": "GRkq89K8xGTm"
      },
      "source": [
        "## Kurva *ROC*(*AUC*)"
      ]
    },
    {
      "cell_type": "code",
      "execution_count": null,
      "metadata": {
        "colab": {
          "base_uri": "https://localhost:8080/",
          "height": 524
        },
        "id": "5_SWp52CZ9k9",
        "outputId": "5896bf58-4ee4-4b19-89f6-bba4c68ca117"
      },
      "outputs": [
        {
          "output_type": "stream",
          "name": "stdout",
          "text": [
            "AUC Score: 0.9402528866757799\n"
          ]
        },
        {
          "output_type": "display_data",
          "data": {
            "text/plain": [
              "<Figure size 700x500 with 1 Axes>"
            ],
            "image/png": "[encoded data removed]"
          },
          "metadata": {}
        }
      ],
      "source": [
        "# Menghitung AUC\n",
        "auc_score = roc_auc_score(y_test, y_pred)\n",
        "print(\"AUC Score:\", auc_score)\n",
        "\n",
        "# Menghitung nilai false positive rate (FPR) dan true positive rate (TPR) untuk ROC curve\n",
        "fpr, tpr, thresholds = roc_curve(y_test, y_pred)\n",
        "\n",
        "# Membuat plot ROC curve\n",
        "plt.figure(figsize=(7, 5))\n",
        "plt.plot(fpr, tpr, label='ROC Curve (AUC = %0.2f)' % auc_score)\n",
        "plt.plot([0, 1], [0, 1], 'k--')\n",
        "plt.xlim([0.0, 1.0])\n",
        "plt.ylim([0.0, 1.05])\n",
        "plt.xlabel('False Positive Rate', fontsize=10)\n",
        "plt.ylabel('True Positive Rate', fontsize=10)\n",
        "plt.title('Receiver Operating Characteristic (ROC)', fontsize=13)\n",
        "plt.legend(loc=\"lower right\")\n",
        "plt.show()"
      ]
    },
    {
      "cell_type": "code",
      "source": [
        "dataset"
      ],
      "metadata": {
        "colab": {
          "base_uri": "https://localhost:8080/",
          "height": 444
        },
        "id": "-f1xEFVNPOve",
        "outputId": "d8e4731a-250c-46da-b821-1cec701dfd84"
      },
      "execution_count": null,
      "outputs": [
        {
          "output_type": "execute_result",
          "data": {
            "text/plain": [
              "       employee_id  department  region  education  age  previous_year_rating  \\\n",
              "0            65438           7      31          2   35                   5.0   \n",
              "1            65141           4      14          0   30                   5.0   \n",
              "2             7513           7      10          0   34                   3.0   \n",
              "3             2542           7      15          0   39                   1.0   \n",
              "4            48945           8      18          0   45                   3.0   \n",
              "...            ...         ...     ...        ...  ...                   ...   \n",
              "54802         6915           7       5          0   31                   1.0   \n",
              "54804        74592           4      19          2   37                   2.0   \n",
              "54805        13918           0       0          0   27                   5.0   \n",
              "54806        13614           7      33          3   29                   1.0   \n",
              "54807        51526           2      14          0   27                   1.0   \n",
              "\n",
              "       length_of_service  awards_won?  avg_training_score  \n",
              "0                      8            0                  49  \n",
              "1                      4            0                  60  \n",
              "2                      7            0                  50  \n",
              "3                     10            0                  50  \n",
              "4                      2            0                  73  \n",
              "...                  ...          ...                 ...  \n",
              "54802                  2            0                  49  \n",
              "54804                  6            0                  56  \n",
              "54805                  3            0                  79  \n",
              "54806                  2            0                  45  \n",
              "54807                  5            0                  49  \n",
              "\n",
              "[51319 rows x 9 columns]"
            ],
            "text/html": [
              "\n",
              "  <div id=\"df-0179e38b-bae2-4240-b91e-560d6d14e3e2\" class=\"colab-df-container\">\n",
              "    <div>\n",
              "<style scoped>\n",
              "    .dataframe tbody tr th:only-of-type {\n",
              "        vertical-align: middle;\n",
              "    }\n",
              "\n",
              "    .dataframe tbody tr th {\n",
              "        vertical-align: top;\n",
              "    }\n",
              "\n",
              "    .dataframe thead th {\n",
              "        text-align: right;\n",
              "    }\n",
              "</style>\n",
              "<table border=\"1\" class=\"dataframe\">\n",
              "  <thead>\n",
              "    <tr style=\"text-align: right;\">\n",
              "      <th></th>\n",
              "      <th>employee_id</th>\n",
              "      <th>department</th>\n",
              "      <th>region</th>\n",
              "      <th>education</th>\n",
              "      <th>age</th>\n",
              "      <th>previous_year_rating</th>\n",
              "      <th>length_of_service</th>\n",
              "      <th>awards_won?</th>\n",
              "      <th>avg_training_score</th>\n",
              "    </tr>\n",
              "  </thead>\n",
              "  <tbody>\n",
              "    <tr>\n",
              "      <th>0</th>\n",
              "      <td>65438</td>\n",
              "      <td>7</td>\n",
              "      <td>31</td>\n",
              "      <td>2</td>\n",
              "      <td>35</td>\n",
              "      <td>5.0</td>\n",
              "      <td>8</td>\n",
              "      <td>0</td>\n",
              "      <td>49</td>\n",
              "    </tr>\n",
              "    <tr>\n",
              "      <th>1</th>\n",
              "      <td>65141</td>\n",
              "      <td>4</td>\n",
              "      <td>14</td>\n",
              "      <td>0</td>\n",
              "      <td>30</td>\n",
              "      <td>5.0</td>\n",
              "      <td>4</td>\n",
              "      <td>0</td>\n",
              "      <td>60</td>\n",
              "    </tr>\n",
              "    <tr>\n",
              "      <th>2</th>\n",
              "      <td>7513</td>\n",
              "      <td>7</td>\n",
              "      <td>10</td>\n",
              "      <td>0</td>\n",
              "      <td>34</td>\n",
              "      <td>3.0</td>\n",
              "      <td>7</td>\n",
              "      <td>0</td>\n",
              "      <td>50</td>\n",
              "    </tr>\n",
              "    <tr>\n",
              "      <th>3</th>\n",
              "      <td>2542</td>\n",
              "      <td>7</td>\n",
              "      <td>15</td>\n",
              "      <td>0</td>\n",
              "      <td>39</td>\n",
              "      <td>1.0</td>\n",
              "      <td>10</td>\n",
              "      <td>0</td>\n",
              "      <td>50</td>\n",
              "    </tr>\n",
              "    <tr>\n",
              "      <th>4</th>\n",
              "      <td>48945</td>\n",
              "      <td>8</td>\n",
              "      <td>18</td>\n",
              "      <td>0</td>\n",
              "      <td>45</td>\n",
              "      <td>3.0</td>\n",
              "      <td>2</td>\n",
              "      <td>0</td>\n",
              "      <td>73</td>\n",
              "    </tr>\n",
              "    <tr>\n",
              "      <th>...</th>\n",
              "      <td>...</td>\n",
              "      <td>...</td>\n",
              "      <td>...</td>\n",
              "      <td>...</td>\n",
              "      <td>...</td>\n",
              "      <td>...</td>\n",
              "      <td>...</td>\n",
              "      <td>...</td>\n",
              "      <td>...</td>\n",
              "    </tr>\n",
              "    <tr>\n",
              "      <th>54802</th>\n",
              "      <td>6915</td>\n",
              "      <td>7</td>\n",
              "      <td>5</td>\n",
              "      <td>0</td>\n",
              "      <td>31</td>\n",
              "      <td>1.0</td>\n",
              "      <td>2</td>\n",
              "      <td>0</td>\n",
              "      <td>49</td>\n",
              "    </tr>\n",
              "    <tr>\n",
              "      <th>54804</th>\n",
              "      <td>74592</td>\n",
              "      <td>4</td>\n",
              "      <td>19</td>\n",
              "      <td>2</td>\n",
              "      <td>37</td>\n",
              "      <td>2.0</td>\n",
              "      <td>6</td>\n",
              "      <td>0</td>\n",
              "      <td>56</td>\n",
              "    </tr>\n",
              "    <tr>\n",
              "      <th>54805</th>\n",
              "      <td>13918</td>\n",
              "      <td>0</td>\n",
              "      <td>0</td>\n",
              "      <td>0</td>\n",
              "      <td>27</td>\n",
              "      <td>5.0</td>\n",
              "      <td>3</td>\n",
              "      <td>0</td>\n",
              "      <td>79</td>\n",
              "    </tr>\n",
              "    <tr>\n",
              "      <th>54806</th>\n",
              "      <td>13614</td>\n",
              "      <td>7</td>\n",
              "      <td>33</td>\n",
              "      <td>3</td>\n",
              "      <td>29</td>\n",
              "      <td>1.0</td>\n",
              "      <td>2</td>\n",
              "      <td>0</td>\n",
              "      <td>45</td>\n",
              "    </tr>\n",
              "    <tr>\n",
              "      <th>54807</th>\n",
              "      <td>51526</td>\n",
              "      <td>2</td>\n",
              "      <td>14</td>\n",
              "      <td>0</td>\n",
              "      <td>27</td>\n",
              "      <td>1.0</td>\n",
              "      <td>5</td>\n",
              "      <td>0</td>\n",
              "      <td>49</td>\n",
              "    </tr>\n",
              "  </tbody>\n",
              "</table>\n",
              "<p>51319 rows × 9 columns</p>\n",
              "</div>\n",
              "    <div class=\"colab-df-buttons\">\n",
              "\n",
              "  <div class=\"colab-df-container\">\n",
              "    <button class=\"colab-df-convert\" onclick=\"convertToInteractive('df-0179e38b-bae2-4240-b91e-560d6d14e3e2')\"\n",
              "            title=\"Convert this dataframe to an interactive table.\"\n",
              "            style=\"display:none;\">\n",
              "\n",
              "  <svg xmlns=\"http://www.w3.org/2000/svg\" height=\"24px\" viewBox=\"0 -960 960 960\">\n",
              "    <path d=\"M120-120v-720h720v720H120Zm60-500h600v-160H180v160Zm220 220h160v-160H400v160Zm0 220h160v-160H400v160ZM180-400h160v-160H180v160Zm440 0h160v-160H620v160ZM180-180h160v-160H180v160Zm440 0h160v-160H620v160Z\"/>\n",
              "  </svg>\n",
              "    </button>\n",
              "\n",
              "  <style>\n",
              "    .colab-df-container {\n",
              "      display:flex;\n",
              "      gap: 12px;\n",
              "    }\n",
              "\n",
              "    .colab-df-convert {\n",
              "      background-color: #E8F0FE;\n",
              "      border: none;\n",
              "      border-radius: 50%;\n",
              "      cursor: pointer;\n",
              "      display: none;\n",
              "      fill: #1967D2;\n",
              "      height: 32px;\n",
              "      padding: 0 0 0 0;\n",
              "      width: 32px;\n",
              "    }\n",
              "\n",
              "    .colab-df-convert:hover {\n",
              "      background-color: #E2EBFA;\n",
              "      box-shadow: 0px 1px 2px rgba(60, 64, 67, 0.3), 0px 1px 3px 1px rgba(60, 64, 67, 0.15);\n",
              "      fill: #174EA6;\n",
              "    }\n",
              "\n",
              "    .colab-df-buttons div {\n",
              "      margin-bottom: 4px;\n",
              "    }\n",
              "\n",
              "    [theme=dark] .colab-df-convert {\n",
              "      background-color: #3B4455;\n",
              "      fill: #D2E3FC;\n",
              "    }\n",
              "\n",
              "    [theme=dark] .colab-df-convert:hover {\n",
              "      background-color: #434B5C;\n",
              "      box-shadow: 0px 1px 3px 1px rgba(0, 0, 0, 0.15);\n",
              "      filter: drop-shadow(0px 1px 2px rgba(0, 0, 0, 0.3));\n",
              "      fill: #FFFFFF;\n",
              "    }\n",
              "  </style>\n",
              "\n",
              "    <script>\n",
              "      const buttonEl =\n",
              "        document.querySelector('#df-0179e38b-bae2-4240-b91e-560d6d14e3e2 button.colab-df-convert');\n",
              "      buttonEl.style.display =\n",
              "        google.colab.kernel.accessAllowed ? 'block' : 'none';\n",
              "\n",
              "      async function convertToInteractive(key) {\n",
              "        const element = document.querySelector('#df-0179e38b-bae2-4240-b91e-560d6d14e3e2');\n",
              "        const dataTable =\n",
              "          await google.colab.kernel.invokeFunction('convertToInteractive',\n",
              "                                                    [key], {});\n",
              "        if (!dataTable) return;\n",
              "\n",
              "        const docLinkHtml = 'Like what you see? Visit the ' +\n",
              "          '<a target=\"_blank\" href=https://colab.research.google.com/notebooks/data_table.ipynb>data table notebook</a>'\n",
              "          + ' to learn more about interactive tables.';\n",
              "        element.innerHTML = '';\n",
              "        dataTable['output_type'] = 'display_data';\n",
              "        await google.colab.output.renderOutput(dataTable, element);\n",
              "        const docLink = document.createElement('div');\n",
              "        docLink.innerHTML = docLinkHtml;\n",
              "        element.appendChild(docLink);\n",
              "      }\n",
              "    </script>\n",
              "  </div>\n",
              "\n",
              "\n",
              "<div id=\"df-e14a6cb8-37ac-477c-abe2-609195c343d6\">\n",
              "  <button class=\"colab-df-quickchart\" onclick=\"quickchart('df-e14a6cb8-37ac-477c-abe2-609195c343d6')\"\n",
              "            title=\"Suggest charts.\"\n",
              "            style=\"display:none;\">\n",
              "\n",
              "<svg xmlns=\"http://www.w3.org/2000/svg\" height=\"24px\"viewBox=\"0 0 24 24\"\n",
              "     width=\"24px\">\n",
              "    <g>\n",
              "        <path d=\"M19 3H5c-1.1 0-2 .9-2 2v14c0 1.1.9 2 2 2h14c1.1 0 2-.9 2-2V5c0-1.1-.9-2-2-2zM9 17H7v-7h2v7zm4 0h-2V7h2v10zm4 0h-2v-4h2v4z\"/>\n",
              "    </g>\n",
              "</svg>\n",
              "  </button>\n",
              "\n",
              "<style>\n",
              "  .colab-df-quickchart {\n",
              "      --bg-color: #E8F0FE;\n",
              "      --fill-color: #1967D2;\n",
              "      --hover-bg-color: #E2EBFA;\n",
              "      --hover-fill-color: #174EA6;\n",
              "      --disabled-fill-color: #AAA;\n",
              "      --disabled-bg-color: #DDD;\n",
              "  }\n",
              "\n",
              "  [theme=dark] .colab-df-quickchart {\n",
              "      --bg-color: #3B4455;\n",
              "      --fill-color: #D2E3FC;\n",
              "      --hover-bg-color: #434B5C;\n",
              "      --hover-fill-color: #FFFFFF;\n",
              "      --disabled-bg-color: #3B4455;\n",
              "      --disabled-fill-color: #666;\n",
              "  }\n",
              "\n",
              "  .colab-df-quickchart {\n",
              "    background-color: var(--bg-color);\n",
              "    border: none;\n",
              "    border-radius: 50%;\n",
              "    cursor: pointer;\n",
              "    display: none;\n",
              "    fill: var(--fill-color);\n",
              "    height: 32px;\n",
              "    padding: 0;\n",
              "    width: 32px;\n",
              "  }\n",
              "\n",
              "  .colab-df-quickchart:hover {\n",
              "    background-color: var(--hover-bg-color);\n",
              "    box-shadow: 0 1px 2px rgba(60, 64, 67, 0.3), 0 1px 3px 1px rgba(60, 64, 67, 0.15);\n",
              "    fill: var(--button-hover-fill-color);\n",
              "  }\n",
              "\n",
              "  .colab-df-quickchart-complete:disabled,\n",
              "  .colab-df-quickchart-complete:disabled:hover {\n",
              "    background-color: var(--disabled-bg-color);\n",
              "    fill: var(--disabled-fill-color);\n",
              "    box-shadow: none;\n",
              "  }\n",
              "\n",
              "  .colab-df-spinner {\n",
              "    border: 2px solid var(--fill-color);\n",
              "    border-color: transparent;\n",
              "    border-bottom-color: var(--fill-color);\n",
              "    animation:\n",
              "      spin 1s steps(1) infinite;\n",
              "  }\n",
              "\n",
              "  @keyframes spin {\n",
              "    0% {\n",
              "      border-color: transparent;\n",
              "      border-bottom-color: var(--fill-color);\n",
              "      border-left-color: var(--fill-color);\n",
              "    }\n",
              "    20% {\n",
              "      border-color: transparent;\n",
              "      border-left-color: var(--fill-color);\n",
              "      border-top-color: var(--fill-color);\n",
              "    }\n",
              "    30% {\n",
              "      border-color: transparent;\n",
              "      border-left-color: var(--fill-color);\n",
              "      border-top-color: var(--fill-color);\n",
              "      border-right-color: var(--fill-color);\n",
              "    }\n",
              "    40% {\n",
              "      border-color: transparent;\n",
              "      border-right-color: var(--fill-color);\n",
              "      border-top-color: var(--fill-color);\n",
              "    }\n",
              "    60% {\n",
              "      border-color: transparent;\n",
              "      border-right-color: var(--fill-color);\n",
              "    }\n",
              "    80% {\n",
              "      border-color: transparent;\n",
              "      border-right-color: var(--fill-color);\n",
              "      border-bottom-color: var(--fill-color);\n",
              "    }\n",
              "    90% {\n",
              "      border-color: transparent;\n",
              "      border-bottom-color: var(--fill-color);\n",
              "    }\n",
              "  }\n",
              "</style>\n",
              "\n",
              "  <script>\n",
              "    async function quickchart(key) {\n",
              "      const quickchartButtonEl =\n",
              "        document.querySelector('#' + key + ' button');\n",
              "      quickchartButtonEl.disabled = true;  // To prevent multiple clicks.\n",
              "      quickchartButtonEl.classList.add('colab-df-spinner');\n",
              "      try {\n",
              "        const charts = await google.colab.kernel.invokeFunction(\n",
              "            'suggestCharts', [key], {});\n",
              "      } catch (error) {\n",
              "        console.error('Error during call to suggestCharts:', error);\n",
              "      }\n",
              "      quickchartButtonEl.classList.remove('colab-df-spinner');\n",
              "      quickchartButtonEl.classList.add('colab-df-quickchart-complete');\n",
              "    }\n",
              "    (() => {\n",
              "      let quickchartButtonEl =\n",
              "        document.querySelector('#df-e14a6cb8-37ac-477c-abe2-609195c343d6 button');\n",
              "      quickchartButtonEl.style.display =\n",
              "        google.colab.kernel.accessAllowed ? 'block' : 'none';\n",
              "    })();\n",
              "  </script>\n",
              "</div>\n",
              "    </div>\n",
              "  </div>\n"
            ]
          },
          "metadata": {},
          "execution_count": 104
        }
      ]
    },
    {
      "cell_type": "markdown",
      "metadata": {
        "id": "QiJeAur0ioYu"
      },
      "source": [
        "# Perbandingan Algoritma dengan Penelitian sebelumnya (berdasarkan *ROC*/*AUC*)"
      ]
    },
    {
      "cell_type": "markdown",
      "metadata": {
        "id": "EBqT_8eRi20k"
      },
      "source": [
        "## *Decision Tree*"
      ]
    },
    {
      "cell_type": "code",
      "execution_count": null,
      "metadata": {
        "id": "zrfIrPszim7P"
      },
      "outputs": [],
      "source": [
        "# from sklearn.tree import DecisionTreeClassifier, export_graphviz\n",
        "\n",
        "# DT = DecisionTreeClassifier(random_state=42)\n",
        "# DT.fit(X_train, y_train)\n",
        "\n",
        "# print('Decision Tree Accuracy: {:.3f}'.format(accuracy_score(y_test, DT.predict(X_test))))"
      ]
    },
    {
      "cell_type": "code",
      "execution_count": null,
      "metadata": {
        "id": "1Ylia-HIiz6K"
      },
      "outputs": [],
      "source": [
        "# # Menghitung AUC\n",
        "# auc_score = roc_auc_score(y_test, DT.predict(X_test))\n",
        "# print(\"AUC Score:\", auc_score)\n",
        "\n",
        "# # Menghitung nilai false positive rate (FPR) dan true positive rate (TPR) untuk ROC curve\n",
        "# fpr, tpr, thresholds = roc_curve(y_test, DT.predict_proba(X_test)[:,1])\n",
        "\n",
        "# # Membuat plot ROC curve\n",
        "# plt.figure(figsize=(8, 6))\n",
        "# plt.plot(fpr, tpr, label='ROC Curve (AUC = %0.2f)' % auc_score)\n",
        "# plt.plot([0, 1], [0, 1], 'k--')\n",
        "# plt.xlim([0.0, 1.0])\n",
        "# plt.ylim([0.0, 1.05])\n",
        "# plt.xlabel('False Positive Rate', fontsize=13)\n",
        "# plt.ylabel('True Positive Rate', fontsize=13)\n",
        "# plt.title('Receiver Operating Characteristic (ROC)', fontsize=15)\n",
        "# plt.legend(loc=\"lower right\")\n",
        "# plt.show()"
      ]
    },
    {
      "cell_type": "markdown",
      "metadata": {
        "id": "hhNg24H9jB_R"
      },
      "source": [
        "## *Naive Bayes*"
      ]
    },
    {
      "cell_type": "code",
      "execution_count": null,
      "metadata": {
        "id": "IgY3OhcAi9ZP"
      },
      "outputs": [],
      "source": [
        "# from sklearn.naive_bayes import GaussianNB\n",
        "\n",
        "# NB = GaussianNB()\n",
        "# NB.fit(X_train, y_train)\n",
        "\n",
        "# print('Naive Bayes Accuracy: {:.3f}'.format(accuracy_score(y_test, NB.predict(X_test))))"
      ]
    },
    {
      "cell_type": "code",
      "execution_count": null,
      "metadata": {
        "id": "fBbNTDO_i9wM"
      },
      "outputs": [],
      "source": [
        "# # Menghitung AUC\n",
        "# auc_score = roc_auc_score(y_test, NB.predict(X_test))\n",
        "# print(\"AUC Score:\", auc_score)\n",
        "\n",
        "# # Menghitung nilai false positive rate (FPR) dan true positive rate (TPR) untuk ROC curve\n",
        "# fpr, tpr, thresholds = roc_curve(y_test, NB.predict_proba(X_test)[:,1])\n",
        "\n",
        "# # Membuat plot ROC curve\n",
        "# plt.figure(figsize=(8, 6))\n",
        "# plt.plot(fpr, tpr, label='ROC Curve (AUC = %0.2f)' % auc_score)\n",
        "# plt.plot([0, 1], [0, 1], 'k--')\n",
        "# plt.xlim([0.0, 1.0])\n",
        "# plt.ylim([0.0, 1.05])\n",
        "# plt.xlabel('False Positive Rate', fontsize=13)\n",
        "# plt.ylabel('True Positive Rate', fontsize=13)\n",
        "# plt.title('Receiver Operating Characteristic (ROC)', fontsize=15)\n",
        "# plt.legend(loc=\"lower right\")\n",
        "# plt.show()"
      ]
    },
    {
      "cell_type": "markdown",
      "metadata": {
        "id": "ayLCHornjPk6"
      },
      "source": [
        "## *Support Vector Machine* (*SVM*)"
      ]
    },
    {
      "cell_type": "code",
      "execution_count": null,
      "metadata": {
        "id": "1Hih4XWljKlJ"
      },
      "outputs": [],
      "source": [
        "# from sklearn.svm import SVC\n",
        "\n",
        "# svm = SVC(kernel='linear', random_state=42, probability=True)\n",
        "# svm.fit(X_train, y_train)\n",
        "\n",
        "# print('Support Vector Machine Accuracy: {:.3f}'.format(accuracy_score(y_test, svm.predict(X_test))))"
      ]
    },
    {
      "cell_type": "code",
      "execution_count": null,
      "metadata": {
        "id": "GT4E3rEBjKxw"
      },
      "outputs": [],
      "source": [
        "# # Menghitung AUC\n",
        "# auc_score = roc_auc_score(y_test, svm.predict(X_test))\n",
        "# print(\"AUC Score:\", auc_score)\n",
        "\n",
        "# # Menghitung nilai false positive rate (FPR) dan true positive rate (TPR) untuk ROC curve\n",
        "# fpr, tpr, thresholds = roc_curve(y_test, svm.predict_proba(X_test)[:,1])\n",
        "\n",
        "# # Membuat plot ROC curve\n",
        "# plt.figure(figsize=(8, 6))\n",
        "# plt.plot(fpr, tpr, label='ROC Curve (AUC = %0.2f)' % auc_score)\n",
        "# plt.plot([0, 1], [0, 1], 'k--')\n",
        "# plt.xlim([0.0, 1.0])\n",
        "# plt.ylim([0.0, 1.05])\n",
        "# plt.xlabel('False Positive Rate', fontsize=13)\n",
        "# plt.ylabel('True Positive Rate', fontsize=13)\n",
        "# plt.title('Receiver Operating Characteristic (ROC)', fontsize=15)\n",
        "# plt.legend(loc=\"lower right\")\n",
        "# plt.show()"
      ]
    },
    {
      "cell_type": "markdown",
      "metadata": {
        "id": "oZQX2zQAjzSE"
      },
      "source": [
        "## *Logistic Regression*"
      ]
    },
    {
      "cell_type": "code",
      "execution_count": null,
      "metadata": {
        "id": "X9hto2LEj4ou"
      },
      "outputs": [],
      "source": [
        "# from sklearn.linear_model import LogisticRegression\n",
        "\n",
        "# LR = LogisticRegression(solver='newton-cg', random_state=42)\n",
        "# LR.fit(X_train, y_train)\n",
        "\n",
        "# print('Logistic Reegression Accuracy: {:.3f}'.format(accuracy_score(y_test, LR.predict(X_test))))"
      ]
    },
    {
      "cell_type": "code",
      "execution_count": null,
      "metadata": {
        "id": "_VptfUTEj464"
      },
      "outputs": [],
      "source": [
        "# # Menghitung AUC\n",
        "# auc_score = roc_auc_score(y_test, LR.predict(X_test))\n",
        "# print(\"AUC Score:\", auc_score)\n",
        "\n",
        "# # Menghitung nilai false positive rate (FPR) dan true positive rate (TPR) untuk ROC curve\n",
        "# fpr, tpr, thresholds = roc_curve(y_test, LR.predict_proba(X_test)[:,1])\n",
        "\n",
        "# # Membuat plot ROC curve\n",
        "# plt.figure(figsize=(8, 6))\n",
        "# plt.plot(fpr, tpr, label='ROC Curve (AUC = %0.2f)' % auc_score)\n",
        "# plt.plot([0, 1], [0, 1], 'k--')\n",
        "# plt.xlim([0.0, 1.0])\n",
        "# plt.ylim([0.0, 1.05])\n",
        "# plt.xlabel('False Positive Rate', fontsize=13)\n",
        "# plt.ylabel('True Positive Rate', fontsize=13)\n",
        "# plt.title('Receiver Operating Characteristic (ROC)', fontsize=15)\n",
        "# plt.legend(loc=\"lower right\")\n",
        "# plt.show()"
      ]
    }
  ],
  "metadata": {
    "colab": {
      "toc_visible": true,
      "provenance": []
    },
    "kernelspec": {
      "display_name": "Python 3",
      "name": "python3"
    },
    "language_info": {
      "name": "python"
    }
  },
  "nbformat": 4,
  "nbformat_minor": 0
}